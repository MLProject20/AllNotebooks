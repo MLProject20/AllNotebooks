{
 "cells": [
  {
   "cell_type": "code",
   "execution_count": 4,
   "metadata": {},
   "outputs": [],
   "source": [
    "import requests\n",
    "import time\n",
    "from bs4 import BeautifulSoup\n",
    "from random import sample \n",
    "import re\n",
    "import glob as gb\n",
    "import pandas as pd \n",
    "import shutil as sh\n",
    "import os\n",
    "from selenium import webdriver\n",
    "import json\n",
    "import csv\n",
    "from datetime import datetime\n",
    "from random import randint\n",
    "from time import strftime\n",
    "import time"
   ]
  },
  {
   "cell_type": "code",
   "execution_count": 5,
   "metadata": {},
   "outputs": [],
   "source": [
    "path = \"C:\\\\Users\\\\padu\\\\Desktop\\\\ResearchCollab\\\\Tonaton\\\\Rentals\"\n",
    "os.chdir(path)"
   ]
  },
  {
   "cell_type": "code",
   "execution_count": 6,
   "metadata": {},
   "outputs": [
    {
     "name": "stdout",
     "output_type": "stream",
     "text": [
      "Script Start: 2022-03-21 20:59:00\n"
     ]
    },
    {
     "ename": "AttributeError",
     "evalue": "'NoneType' object has no attribute 'contents'",
     "output_type": "error",
     "traceback": [
      "\u001b[1;31m---------------------------------------------------------------------------\u001b[0m",
      "\u001b[1;31mAttributeError\u001b[0m                            Traceback (most recent call last)",
      "\u001b[1;32m<ipython-input-6-925d8dc5cd7b>\u001b[0m in \u001b[0;36m<module>\u001b[1;34m\u001b[0m\n\u001b[0;32m     10\u001b[0m \u001b[1;33m\u001b[0m\u001b[0m\n\u001b[0;32m     11\u001b[0m \u001b[1;33m\u001b[0m\u001b[0m\n\u001b[1;32m---> 12\u001b[1;33m     \u001b[1;32mfor\u001b[0m \u001b[0mrow\u001b[0m \u001b[1;32min\u001b[0m \u001b[0mUL\u001b[0m\u001b[1;33m.\u001b[0m\u001b[0mcontents\u001b[0m\u001b[1;33m:\u001b[0m\u001b[1;33m\u001b[0m\u001b[1;33m\u001b[0m\u001b[0m\n\u001b[0m\u001b[0;32m     13\u001b[0m         \u001b[0mhome\u001b[0m \u001b[1;33m=\u001b[0m \u001b[1;34m\"https://tonaton.com\"\u001b[0m \u001b[1;33m+\u001b[0m \u001b[0mstr\u001b[0m\u001b[1;33m(\u001b[0m\u001b[0mrow\u001b[0m\u001b[1;33m.\u001b[0m\u001b[0mfind\u001b[0m\u001b[1;33m(\u001b[0m\u001b[1;34m'a'\u001b[0m\u001b[1;33m,\u001b[0m  \u001b[1;33m{\u001b[0m\u001b[1;34m'class'\u001b[0m\u001b[1;33m:\u001b[0m \u001b[1;34m'card-link--3ssYv gtm-ad-item'\u001b[0m\u001b[1;33m}\u001b[0m\u001b[1;33m)\u001b[0m\u001b[1;33m[\u001b[0m\u001b[1;34m'href'\u001b[0m\u001b[1;33m]\u001b[0m\u001b[1;33m)\u001b[0m\u001b[1;33m\u001b[0m\u001b[1;33m\u001b[0m\u001b[0m\n\u001b[0;32m     14\u001b[0m         \u001b[0mihomes\u001b[0m \u001b[1;33m=\u001b[0m \u001b[0mrequests\u001b[0m\u001b[1;33m.\u001b[0m\u001b[0mget\u001b[0m\u001b[1;33m(\u001b[0m\u001b[0mhome\u001b[0m\u001b[1;33m)\u001b[0m\u001b[1;33m.\u001b[0m\u001b[0mtext\u001b[0m\u001b[1;33m\u001b[0m\u001b[1;33m\u001b[0m\u001b[0m\n",
      "\u001b[1;31mAttributeError\u001b[0m: 'NoneType' object has no attribute 'contents'"
     ]
    }
   ],
   "source": [
    "print(\"Script Start: \" + strftime(\"%Y-%m-%d %H:%M:%S\"))\n",
    "\n",
    "Listings = []\n",
    "\n",
    "for page in range(1,200,1):\n",
    "    MainURL = 'https://tonaton.com/en/ads/greater-accra/apartment-rentals?sort=date&order=desc&buy_now=0&urgent=0&page='+str(page)\n",
    "    Response = requests.get(MainURL).text\n",
    "    homes = BeautifulSoup(Response, \"html.parser\")\n",
    "    UL = homes.find('ul',  {'class': 'list--3NxGO'})\n",
    "    \n",
    "    \n",
    "    for row in UL.contents:\n",
    "        home = \"https://tonaton.com\" + str(row.find('a',  {'class': 'card-link--3ssYv gtm-ad-item'})['href'])\n",
    "        ihomes = requests.get(home).text\n",
    "        ihomesbs4 = BeautifulSoup(ihomes, \"html.parser\")\n",
    "        headings = [row.text for row in ihomesbs4.find_all('div',{'class':'word-break--2nyVq value--1lKHt'})]\n",
    "        labels = [row.text for row in ihomesbs4.find_all('div',{'class':'word-break--2nyVq label--3oVZK'})]\n",
    "        Alllabels = dict(zip(labels,headings))\n",
    "#         print(Alllabels)\n",
    "        \n",
    "        \n",
    "        try:\n",
    "            Listings.append({\n",
    "                'Title': ihomesbs4.find('h1',{'class': 'title--3s1R8'}).text,\n",
    "                'price': ihomesbs4.find('div',{'class': 'amount--3NTpl'}).text.strip(\"GHâµ\"),\n",
    "                'description': ihomesbs4.find('div',  {'class': 'description--1nRbz'}).text,\n",
    "                'Landmark': str([Alllabels[row] for row in Alllabels if row.startswith(\"Street\")][0]),\n",
    "                'Size': str([Alllabels[row] for row in Alllabels if row.startswith(\"Size\")][0]),\n",
    "                'Beds': str([Alllabels[row] for row in Alllabels if row.startswith(\"Bed\")][0]),\n",
    "                'Baths': str([Alllabels[row] for row in Alllabels if row.startswith(\"Bath\")][0]),\n",
    "                'URL': home\n",
    "\n",
    "                 })\n",
    "        except IndexError:\n",
    "            \n",
    "            Listings.append({\n",
    "            'Title': ihomesbs4.find('h1',{'class': 'title--3s1R8'}),\n",
    "            'price': ihomesbs4.find('div',{'class': 'amount--3NTpl'}).text.strip(\"GHâµ\"),\n",
    "            'description': ihomesbs4.find('div',  {'class': 'description--1nRbz'}).text,\n",
    "            'Landmark': str([Alllabels[row] for row in Alllabels if row.startswith(\"Street\")]),\n",
    "            'Size': str([Alllabels[row] for row in Alllabels if row.startswith(\"Size\")]),\n",
    "            'Beds': str([Alllabels[row] for row in Alllabels if row.startswith(\"Bed\")][0]),\n",
    "            'Baths': str([Alllabels[row] for row in Alllabels if row.startswith(\"Bath\")][0]),\n",
    "            'URL': home\n",
    "\n",
    "             })\n",
    "            \n",
    "        except AttributeError:\n",
    "            print(home)\n",
    "            pass\n",
    "        \n",
    "        time.sleep(1.5)\n",
    "#         else:\n",
    "#             print(home)\n",
    "#             pass\n",
    "    \n",
    "       \n",
    "        \n",
    "print(\"Script End: \" + strftime(\"%Y-%m-%d %H:%M:%S\"))"
   ]
  },
  {
   "cell_type": "code",
   "execution_count": null,
   "metadata": {},
   "outputs": [],
   "source": [
    "len(Listings)"
   ]
  },
  {
   "cell_type": "code",
   "execution_count": null,
   "metadata": {
    "scrolled": true
   },
   "outputs": [],
   "source": [
    "Tonaton = pd.DataFrame(Listings)\n",
    "csv =  \"TonatonRentals\" + \"_\" + \"{:%Y_%m_%d__%H_%M_%S}\".format(datetime.now()) +\".csv\"\n",
    "Tonaton.to_csv(csv, index = False)"
   ]
  },
  {
   "cell_type": "code",
   "execution_count": null,
   "metadata": {},
   "outputs": [],
   "source": [
    "print(\"Script Start: \" + strftime(\"%Y-%m-%d %H:%M:%S\"))\n",
    "\n",
    "KumasiListings = []\n",
    "\n",
    "for page in range(1,200,1):\n",
    "    MainURL = 'https://tonaton.com/en/ads/ashanti/apartment-rentals?sort=date&order=desc&buy_now=0&urgent=0&page='+str(page)\n",
    "    Response = requests.get(MainURL).text\n",
    "    homes = BeautifulSoup(Response, \"html.parser\")\n",
    "    UL = homes.find('ul',  {'class': 'list--3NxGO'})\n",
    "    \n",
    "    \n",
    "    for row in UL.contents:\n",
    "        home = \"https://tonaton.com\" + str(row.find('a',  {'class': 'card-link--3ssYv gtm-ad-item'})['href'])\n",
    "        ihomes = requests.get(home).text\n",
    "        ihomesbs4 = BeautifulSoup(ihomes, \"html.parser\")\n",
    "        labels = [row.text for row in ihomesbs4.find_all('div',{'class':'word-break--2nyVq value--1lKHt'})]\n",
    "        headings = [row.text for row in ihomesbs4.find_all('div',{'class':'word-break--2nyVq label--3oVZK'})]\n",
    "        Alllabels = dict(zip(headings,labels))\n",
    "#         print(Alllabels)\n",
    "        \n",
    "        try:\n",
    "            KumasiListings.append({\n",
    "                'Title': ihomesbs4.find('h1',{'class': 'title--3s1R8'}).text,\n",
    "                'price': ihomesbs4.find('div',{'class': 'amount--3NTpl'}).text.strip(\"GHâµ\"),\n",
    "                'description': ihomesbs4.find('div',  {'class': 'description--1nRbz'}).text,\n",
    "                'Landmark': str([Alllabels[row] for row in Alllabels if row.startswith(\"Street\")][0]),\n",
    "                'Size': str([Alllabels[row] for row in Alllabels if row.startswith(\"Size\")][0]),\n",
    "                'Beds': str([Alllabels[row] for row in Alllabels if row.startswith(\"Bed\")][0]),\n",
    "                'Baths': str([Alllabels[row] for row in Alllabels if row.startswith(\"Bath\")][0]),\n",
    "                'URL': home\n",
    "\n",
    "                 })\n",
    "        except IndexError:\n",
    "            \n",
    "            KumasiListings.append({\n",
    "            'Title': ihomesbs4.find('h1',{'class': 'title--3s1R8'}),\n",
    "            'price': ihomesbs4.find('div',{'class': 'amount--3NTpl'}).text.strip(\"GHâµ\"),\n",
    "            'description': ihomesbs4.find('div',  {'class': 'description--1nRbz'}).text,\n",
    "            'Landmark': str([Alllabels[row] for row in Alllabels if row.startswith(\"Street\")]),\n",
    "            'Size': str([Alllabels[row] for row in Alllabels if row.startswith(\"Size\")]),\n",
    "            'Beds': str([Alllabels[row] for row in Alllabels if row.startswith(\"Bed\")][0]),\n",
    "            'Baths': str([Alllabels[row] for row in Alllabels if row.startswith(\"Bath\")][0]),\n",
    "            'URL': home\n",
    "\n",
    "             })\n",
    "            \n",
    "        except AttributeError:\n",
    "            print(home)\n",
    "            pass\n",
    "#         else:\n",
    "#             print(home)\n",
    "#             pass\n",
    "       \n",
    "        \n",
    "print(\"Script End: \" + strftime(\"%Y-%m-%d %H:%M:%S\"))"
   ]
  },
  {
   "cell_type": "code",
   "execution_count": null,
   "metadata": {},
   "outputs": [],
   "source": [
    "TonatonKumasi = pd.DataFrame(KumasiListings)\n",
    "csv =  \"TonatonRentalsAshanti\" + \"_\" + \"{:%Y_%m_%d__%H_%M_%S}\".format(datetime.now()) +\".csv\"\n",
    "TonatonKumasi.to_csv(csv, index = False)"
   ]
  },
  {
   "cell_type": "code",
   "execution_count": null,
   "metadata": {},
   "outputs": [],
   "source": [
    "TonatonKumasi.shape"
   ]
  },
  {
   "cell_type": "code",
   "execution_count": null,
   "metadata": {},
   "outputs": [],
   "source": []
  }
 ],
 "metadata": {
  "kernelspec": {
   "display_name": "Python 3 (ipykernel)",
   "language": "python",
   "name": "python3"
  },
  "language_info": {
   "codemirror_mode": {
    "name": "ipython",
    "version": 3
   },
   "file_extension": ".py",
   "mimetype": "text/x-python",
   "name": "python",
   "nbconvert_exporter": "python",
   "pygments_lexer": "ipython3",
   "version": "3.7.11"
  }
 },
 "nbformat": 4,
 "nbformat_minor": 4
}
