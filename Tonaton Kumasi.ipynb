{
 "cells": [
  {
   "cell_type": "code",
   "execution_count": 1,
   "metadata": {},
   "outputs": [],
   "source": [
    "import requests\n",
    "import time\n",
    "from bs4 import BeautifulSoup\n",
    "from random import sample \n",
    "import re\n",
    "import glob as gb\n",
    "import pandas as pd \n",
    "import shutil as sh\n",
    "import os\n",
    "from selenium import webdriver\n",
    "import json\n",
    "import csv\n",
    "from datetime import datetime\n",
    "from random import randint\n",
    "from time import strftime"
   ]
  },
  {
   "cell_type": "code",
   "execution_count": 2,
   "metadata": {},
   "outputs": [],
   "source": [
    "path = \"C:\\\\Users\\\\padu\\\\Desktop\\\\ResearchCollab\\\\Tonaton\\\\\"\n",
    "os.chdir(path)"
   ]
  },
  {
   "cell_type": "code",
   "execution_count": 3,
   "metadata": {},
   "outputs": [
    {
     "name": "stdout",
     "output_type": "stream",
     "text": [
      "Script Start: 2021-07-12 01:09:54\n",
      "Script End: 2021-07-12 01:21:33\n"
     ]
    }
   ],
   "source": [
    "print(\"Script Start: \" + strftime(\"%Y-%m-%d %H:%M:%S\"))\n",
    "\n",
    "Listings = []\n",
    "\n",
    "for page in range(1,32,1):\n",
    "    MainURL = 'https://tonaton.com/en/ads/ashanti/houses-for-sale?sort=date&order=desc&buy_now=0&urgent=0&page='+str(page)\n",
    "    Response = requests.get(MainURL).text\n",
    "    homes = BeautifulSoup(Response, \"html.parser\")\n",
    "    UL = homes.find('ul',  {'class': 'list--3NxGO'})\n",
    "    \n",
    "    \n",
    "    for row in UL.contents:\n",
    "        home = \"https://tonaton.com/\" + str(row.find('a',  {'class': 'card-link--3ssYv gtm-ad-item'})['href'])\n",
    "        ihomes = requests.get(home).text\n",
    "        ihomesbs4 = BeautifulSoup(ihomes, \"html.parser\")\n",
    "#         print(home)\n",
    "        \n",
    "        try:\n",
    "            Listings.append({\n",
    "                'Title': ihomesbs4.find('h1',{'itemprop': \"name\"}).text,\n",
    "                'price': ihomesbs4.find('span',{'class': \"amount\"}).text,\n",
    "                'description': ihomesbs4.find('div',{'itemprop': 'description', 'class': 'item-description'}).text,\n",
    "                'Landmark': ihomesbs4.find('div',{'class': 'item-properties'}).find_all('dl')[0].text,\n",
    "                'Size': ihomesbs4.find('div',{'class': 'item-properties'}).find_all('dl')[1].text,\n",
    "                'Beds': ihomesbs4.find('div',{'class': 'item-properties'}).find_all('dl')[2].text.strip(\"Beds:\"),\n",
    "                'Baths': ihomesbs4.find('div',{'class': 'item-properties'}).find_all('dl')[3].text.strip(\"Baths:\"),\n",
    "                'URL': home\n",
    "\n",
    "                 })\n",
    "        except IndexError:\n",
    "                 Listings.append({\n",
    "                'Title': ihomesbs4.find('h1',{'itemprop': \"name\"}).text,\n",
    "                'price': ihomesbs4.find('span',{'class': \"amount\"}).text,\n",
    "                'description': ihomesbs4.find('div',{'itemprop': 'description', 'class': 'item-description'}).text,\n",
    "#                 'Landmark': ihomesbs4.find('div',{'class': 'item-properties'}).find_all('dl'),\n",
    "                'Size': ihomesbs4.find('div',{'class': 'item-properties'}).find_all('dl')[0].text,\n",
    "                'Beds': ihomesbs4.find('div',{'class': 'item-properties'}).find_all('dl')[1].text.strip(\"Beds:\"),\n",
    "                'Baths': ihomesbs4.find('div',{'class': 'item-properties'}).find_all('dl')[2].text.strip(\"Baths:\"),\n",
    "                'URL': home\n",
    "                \n",
    "\n",
    "                 })\n",
    "#         else:\n",
    "#             print(home)\n",
    "#             pass\n",
    "        \n",
    "print(\"Script End: \" + strftime(\"%Y-%m-%d %H:%M:%S\"))"
   ]
  },
  {
   "cell_type": "code",
   "execution_count": null,
   "metadata": {},
   "outputs": [],
   "source": [
    "Tonaton = pd.DataFrame(Listings)\n",
    "csv =  \"TonatonHomesAshanti\" + \"_\" + \"{:%Y_%m_%d__%H_%M_%S}\".format(datetime.now()) +\".csv\"\n",
    "Tonaton.to_csv(csv, index = False)"
   ]
  }
 ],
 "metadata": {
  "kernelspec": {
   "display_name": "Python 3 (ipykernel)",
   "language": "python",
   "name": "python3"
  },
  "language_info": {
   "codemirror_mode": {
    "name": "ipython",
    "version": 3
   },
   "file_extension": ".py",
   "mimetype": "text/x-python",
   "name": "python",
   "nbconvert_exporter": "python",
   "pygments_lexer": "ipython3",
   "version": "3.7.10"
  }
 },
 "nbformat": 4,
 "nbformat_minor": 4
}
