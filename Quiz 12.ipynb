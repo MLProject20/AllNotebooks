{
 "cells": [
  {
   "cell_type": "code",
   "execution_count": 2,
   "metadata": {},
   "outputs": [],
   "source": [
    "import arcpy\n",
    "import pandas as pd\n",
    "import os\n",
    "import glob as gb\n",
    "import shutil as sh"
   ]
  },
  {
   "cell_type": "code",
   "execution_count": 41,
   "metadata": {},
   "outputs": [],
   "source": [
    "path = \"C:\\\\Users\\\\padu\\\\Desktop\\\\GIS Programming\\\\April14\\\\sqlData\"\n",
    "os.chdir(path)"
   ]
  },
  {
   "cell_type": "code",
   "execution_count": 3,
   "metadata": {},
   "outputs": [],
   "source": [
    "path = \"C:\\\\Users\\\\padu\\\\Desktop\\\\Zillow\\\\ZillowCraiglist\"\n",
    "os.chdir(path)"
   ]
  },
  {
   "cell_type": "code",
   "execution_count": 4,
   "metadata": {},
   "outputs": [
    {
     "ename": "ExecuteError",
     "evalue": "Failed to execute. Parameters are not valid.\nERROR 000732: Input Address Locator: Dataset NCOne_CreateCompositeAddress.loc does not exist or is not supported\nERROR 000005: Could not open the address locator.\nFailed to execute (GeocodeAddresses).\n",
     "output_type": "error",
     "traceback": [
      "\u001b[1;31m---------------------------------------------------------------------------\u001b[0m",
      "\u001b[1;31mExecuteError\u001b[0m                              Traceback (most recent call last)",
      "\u001b[1;32m<ipython-input-4-3d05d79c4886>\u001b[0m in \u001b[0;36m<module>\u001b[1;34m\u001b[0m\n\u001b[0;32m     10\u001b[0m arcpy.GeocodeAddresses_geocoding(address_table, address_locator,\n\u001b[0;32m     11\u001b[0m                                  \u001b[0maddress_fields\u001b[0m\u001b[1;33m,\u001b[0m \u001b[0mgeocode_results\u001b[0m\u001b[1;33m,\u001b[0m\u001b[1;33m\u001b[0m\u001b[1;33m\u001b[0m\u001b[0m\n\u001b[1;32m---> 12\u001b[1;33m                                  'STATIC')\n\u001b[0m",
      "\u001b[1;32mC:\\Program Files\\ArcGIS\\Pro\\Resources\\ArcPy\\arcpy\\geocoding.py\u001b[0m in \u001b[0;36mGeocodeAddresses\u001b[1;34m(in_table, address_locator, in_address_fields, out_feature_class, out_relationship_type, country, location_type, category, output_fields)\u001b[0m\n\u001b[0;32m    534\u001b[0m         \u001b[1;32mreturn\u001b[0m \u001b[0mretval\u001b[0m\u001b[1;33m\u001b[0m\u001b[1;33m\u001b[0m\u001b[0m\n\u001b[0;32m    535\u001b[0m     \u001b[1;32mexcept\u001b[0m \u001b[0mException\u001b[0m \u001b[1;32mas\u001b[0m \u001b[0me\u001b[0m\u001b[1;33m:\u001b[0m\u001b[1;33m\u001b[0m\u001b[1;33m\u001b[0m\u001b[0m\n\u001b[1;32m--> 536\u001b[1;33m         \u001b[1;32mraise\u001b[0m \u001b[0me\u001b[0m\u001b[1;33m\u001b[0m\u001b[1;33m\u001b[0m\u001b[0m\n\u001b[0m\u001b[0;32m    537\u001b[0m \u001b[1;33m\u001b[0m\u001b[0m\n\u001b[0;32m    538\u001b[0m \u001b[1;33m@\u001b[0m\u001b[0mgptooldoc\u001b[0m\u001b[1;33m(\u001b[0m\u001b[1;34m'PackageLocator_geocoding'\u001b[0m\u001b[1;33m,\u001b[0m \u001b[1;32mNone\u001b[0m\u001b[1;33m)\u001b[0m\u001b[1;33m\u001b[0m\u001b[1;33m\u001b[0m\u001b[0m\n",
      "\u001b[1;32mC:\\Program Files\\ArcGIS\\Pro\\Resources\\ArcPy\\arcpy\\geocoding.py\u001b[0m in \u001b[0;36mGeocodeAddresses\u001b[1;34m(in_table, address_locator, in_address_fields, out_feature_class, out_relationship_type, country, location_type, category, output_fields)\u001b[0m\n\u001b[0;32m    531\u001b[0m     \u001b[1;32mfrom\u001b[0m \u001b[0marcpy\u001b[0m\u001b[1;33m.\u001b[0m\u001b[0marcobjects\u001b[0m\u001b[1;33m.\u001b[0m\u001b[0marcobjectconversion\u001b[0m \u001b[1;32mimport\u001b[0m \u001b[0mconvertArcObjectToPythonObject\u001b[0m\u001b[1;33m\u001b[0m\u001b[1;33m\u001b[0m\u001b[0m\n\u001b[0;32m    532\u001b[0m     \u001b[1;32mtry\u001b[0m\u001b[1;33m:\u001b[0m\u001b[1;33m\u001b[0m\u001b[1;33m\u001b[0m\u001b[0m\n\u001b[1;32m--> 533\u001b[1;33m         \u001b[0mretval\u001b[0m \u001b[1;33m=\u001b[0m \u001b[0mconvertArcObjectToPythonObject\u001b[0m\u001b[1;33m(\u001b[0m\u001b[0mgp\u001b[0m\u001b[1;33m.\u001b[0m\u001b[0mGeocodeAddresses_geocoding\u001b[0m\u001b[1;33m(\u001b[0m\u001b[1;33m*\u001b[0m\u001b[0mgp_fixargs\u001b[0m\u001b[1;33m(\u001b[0m\u001b[1;33m(\u001b[0m\u001b[0min_table\u001b[0m\u001b[1;33m,\u001b[0m \u001b[0maddress_locator\u001b[0m\u001b[1;33m,\u001b[0m \u001b[0min_address_fields\u001b[0m\u001b[1;33m,\u001b[0m \u001b[0mout_feature_class\u001b[0m\u001b[1;33m,\u001b[0m \u001b[0mout_relationship_type\u001b[0m\u001b[1;33m,\u001b[0m \u001b[0mcountry\u001b[0m\u001b[1;33m,\u001b[0m \u001b[0mlocation_type\u001b[0m\u001b[1;33m,\u001b[0m \u001b[0mcategory\u001b[0m\u001b[1;33m,\u001b[0m \u001b[0moutput_fields\u001b[0m\u001b[1;33m)\u001b[0m\u001b[1;33m,\u001b[0m \u001b[1;32mTrue\u001b[0m\u001b[1;33m)\u001b[0m\u001b[1;33m)\u001b[0m\u001b[1;33m)\u001b[0m\u001b[1;33m\u001b[0m\u001b[1;33m\u001b[0m\u001b[0m\n\u001b[0m\u001b[0;32m    534\u001b[0m         \u001b[1;32mreturn\u001b[0m \u001b[0mretval\u001b[0m\u001b[1;33m\u001b[0m\u001b[1;33m\u001b[0m\u001b[0m\n\u001b[0;32m    535\u001b[0m     \u001b[1;32mexcept\u001b[0m \u001b[0mException\u001b[0m \u001b[1;32mas\u001b[0m \u001b[0me\u001b[0m\u001b[1;33m:\u001b[0m\u001b[1;33m\u001b[0m\u001b[1;33m\u001b[0m\u001b[0m\n",
      "\u001b[1;32mC:\\Program Files\\ArcGIS\\Pro\\Resources\\ArcPy\\arcpy\\geoprocessing\\_base.py\u001b[0m in \u001b[0;36m<lambda>\u001b[1;34m(*args)\u001b[0m\n\u001b[0;32m    509\u001b[0m         \u001b[0mval\u001b[0m \u001b[1;33m=\u001b[0m \u001b[0mgetattr\u001b[0m\u001b[1;33m(\u001b[0m\u001b[0mself\u001b[0m\u001b[1;33m.\u001b[0m\u001b[0m_gp\u001b[0m\u001b[1;33m,\u001b[0m \u001b[0mattr\u001b[0m\u001b[1;33m)\u001b[0m\u001b[1;33m\u001b[0m\u001b[1;33m\u001b[0m\u001b[0m\n\u001b[0;32m    510\u001b[0m         \u001b[1;32mif\u001b[0m \u001b[0mcallable\u001b[0m\u001b[1;33m(\u001b[0m\u001b[0mval\u001b[0m\u001b[1;33m)\u001b[0m\u001b[1;33m:\u001b[0m\u001b[1;33m\u001b[0m\u001b[1;33m\u001b[0m\u001b[0m\n\u001b[1;32m--> 511\u001b[1;33m             \u001b[1;32mreturn\u001b[0m \u001b[1;32mlambda\u001b[0m \u001b[1;33m*\u001b[0m\u001b[0margs\u001b[0m\u001b[1;33m:\u001b[0m \u001b[0mval\u001b[0m\u001b[1;33m(\u001b[0m\u001b[1;33m*\u001b[0m\u001b[0mgp_fixargs\u001b[0m\u001b[1;33m(\u001b[0m\u001b[0margs\u001b[0m\u001b[1;33m,\u001b[0m \u001b[1;32mTrue\u001b[0m\u001b[1;33m)\u001b[0m\u001b[1;33m)\u001b[0m\u001b[1;33m\u001b[0m\u001b[1;33m\u001b[0m\u001b[0m\n\u001b[0m\u001b[0;32m    512\u001b[0m         \u001b[1;32melse\u001b[0m\u001b[1;33m:\u001b[0m\u001b[1;33m\u001b[0m\u001b[1;33m\u001b[0m\u001b[0m\n\u001b[0;32m    513\u001b[0m             \u001b[1;32mreturn\u001b[0m \u001b[0mconvertArcObjectToPythonObject\u001b[0m\u001b[1;33m(\u001b[0m\u001b[0mval\u001b[0m\u001b[1;33m)\u001b[0m\u001b[1;33m\u001b[0m\u001b[1;33m\u001b[0m\u001b[0m\n",
      "\u001b[1;31mExecuteError\u001b[0m: Failed to execute. Parameters are not valid.\nERROR 000732: Input Address Locator: Dataset NCOne_CreateCompositeAddress.loc does not exist or is not supported\nERROR 000005: Could not open the address locator.\nFailed to execute (GeocodeAddresses).\n"
     ]
    }
   ],
   "source": [
    "address_table = \"Zillow.csv\"\n",
    "address_locator = \"NCOne_CreateCompositeAddress.loc\"\n",
    "address_fields = (\"\\'Address or Place\\' streetaddress VISIBLE NONE;Address2 <None> VISIBLE NONE;Address3 <None> VISIBLE NONE;\" +\n",
    "                  \"Neighborhood <None> VISIBLE NONE;City <None> VISIBLE NONE;County <None> VISIBLE NONE;\" +\n",
    "                  \"State <None> VISIBLE NONE;ZIP ZIP <None> VISIBLE NONE;ZIP4 <None> VISIBLE NONE;\" +\n",
    "                  \"Country <None> VISIBLE NONE\")\n",
    "                 \n",
    "geocode_results = \"Zillow.shp\"\n",
    "\n",
    "arcpy.GeocodeAddresses_geocoding(address_table, address_locator,\n",
    "                                 address_fields, geocode_results,\n",
    "                                 'STATIC')"
   ]
  },
  {
   "cell_type": "code",
   "execution_count": null,
   "metadata": {},
   "outputs": [],
   "source": [
    "import arcpy\n",
    "import os"
   ]
  },
  {
   "cell_type": "code",
   "execution_count": 42,
   "metadata": {},
   "outputs": [],
   "source": [
    "arcpy.env.workspace = path"
   ]
  },
  {
   "cell_type": "code",
   "execution_count": 43,
   "metadata": {},
   "outputs": [
    {
     "data": {
      "text/plain": [
       "['Buffalo.shp',\n",
       " 'CaliBoundary.shp',\n",
       " 'DengueCases.shp',\n",
       " 'Hospital.shp',\n",
       " 'Lynx_stations.shp',\n",
       " 'mecklBG.shp',\n",
       " 'Railroads.shp',\n",
       " 'Stations.shp',\n",
       " 'tweets.shp']"
      ]
     },
     "execution_count": 43,
     "metadata": {},
     "output_type": "execute_result"
    }
   ],
   "source": [
    "featureclasses = arcpy.ListFeatureClasses()\n",
    "featureclasses"
   ]
  },
  {
   "cell_type": "code",
   "execution_count": 55,
   "metadata": {},
   "outputs": [
    {
     "name": "stdout",
     "output_type": "stream",
     "text": [
      "Hospital ZipCode is ('Brylin Hospitol', (-78.86806063609271, 42.918494273260535))\n",
      "Hospital ZipCode is ('Buffalo Columbus Hospital', (-78.88333612829445, 42.89213512479847))\n",
      "Hospital ZipCode is ('Buffalo General', (-78.86685200327906, 42.90025699980606))\n",
      "Hospital ZipCode is ('Buffalo Psychiatric Center', (-78.88318800329426, 42.927656999831584))\n",
      "Hospital ZipCode is (\"Children's Hospitol\", (-78.8746120032863, 42.90885449981408))\n",
      "Hospital ZipCode is ('DeGraff Memorial Hospital', (-78.86238800327493, 43.02614949992329))\n",
      "Hospital ZipCode is ('Erie County Medical Center', (-78.82895600324377, 42.927276999831236))\n",
      "Hospital ZipCode is ('Inter-Community Memorial Hospital', (-78.70705600313028, 43.28744736735416))\n",
      "Hospital ZipCode is ('Kenmore Mercy Hospital', (-78.8783580032898, 42.97797949987847))\n",
      "Hospital ZipCode is ('Lockport Memorial Hospital', (-78.66964556559543, 43.1769107188137))\n",
      "Hospital ZipCode is ('Mercy Hospital', (-78.8125600032285, 42.84826299975765))\n",
      "Hospital ZipCode is ('Millard Fillmore Gates Circle', (-78.86701000327923, 42.92053933576244))\n",
      "Hospital ZipCode is ('Millard Fillmore Suburban', (-78.72984277658895, 42.991156999890734))\n",
      "Hospital ZipCode is (\"Mount Saint Mary's Hospital\", (-79.02955933155562, 43.15391666410483))\n",
      "Hospital ZipCode is ('Mount View Health Facility', (-78.73821620628428, 43.17381628131085))\n",
      "Hospital ZipCode is ('Niagara Falls Memorial Medical Cent', (-79.05028788626242, 43.093305203110845))\n",
      "Hospital ZipCode is ('Our Lady of Victory Hospital (OLV)', (-78.82077870636118, 42.82680368723766))\n",
      "Hospital ZipCode is ('Roswell Park Cancer Institute', (-78.86423700327663, 42.89845699980441))\n",
      "Hospital ZipCode is ('Sheehan Memorial Hospital', (-78.86785950327999, 42.88474199979163))\n",
      "Hospital ZipCode is ('Sisters of Charity Hospital', (-78.85077387826408, 42.928140124832055))\n",
      "Hospital ZipCode is ('St. Joseph Hospital', (-78.78425400320214, 42.915557999820294))\n",
      "Hospital ZipCode is ('Tri County Memorial Hospital', (-78.94158075334866, 42.46914529627958))\n",
      "Hospital ZipCode is ('Veterans Administration Medical Cen', (-78.81335600322927, 42.949624499852064))\n",
      "Hospital ZipCode is ('WNY VA Medical Center', (-78.81335600322927, 42.949624499852064))\n",
      "Hospital ZipCode is ('Veteran’s Hospital', (-77.422, 42.384))\n"
     ]
    }
   ],
   "source": [
    "path = \"C:\\\\Users\\\\padu\\\\Desktop\\\\GIS Programming\\\\April14\\\\sqlData\"\n",
    "os.chdir(path)\n",
    "\n",
    "\n",
    "arcpy.env.workspace = path\n",
    "\n",
    "\n",
    "featureclasses = arcpy.ListFeatureClasses()\n",
    "featureclasses\n",
    "\n",
    "FC = []\n",
    "\n",
    "for row in featureclasses:\n",
    "    if row == 'Hospital.shp':\n",
    "        FC.append(row)\n",
    "FC = FC[0]\n",
    "\n",
    "with arcpy.da.SearchCursor(FC, [\"NAME\",\"SHAPE@XY\"]) as cursor:\n",
    "    for row in cursor:\n",
    "        print ('Hospital ZipCode is ' + str(row))"
   ]
  },
  {
   "cell_type": "code",
   "execution_count": 52,
   "metadata": {
    "scrolled": false
   },
   "outputs": [
    {
     "name": "stdout",
     "output_type": "stream",
     "text": [
      "Stations.shp\n",
      "(0, (595173.3126561381, 206145.07808059826))\n",
      "(1, (592703.124923816, 187600.21880719066))\n",
      "(2, (381131.0312754307, 250949.28139846586))\n",
      "(3, (617775.8126928406, 156511.46864895895))\n",
      "(4, (553808.8125195643, 277884.749996813))\n",
      "(5, (345298.46860553604, 279453.6248167064))\n",
      "(6, (704223.1248214794, 332660.250173511))\n",
      "(7, (354963.0000811592, 684946.6873277463))\n",
      "(8, (309720.6874903394, 767813.062518457))\n",
      "(9, (634129.7501513129, 230866.70309700444))\n",
      "(10, (418422.9999827016, 205969.89073002152))\n",
      "(11, (333052.9998124093, 274190.9060729332))\n",
      "(12, (320984.9373871777, 276354.1563064866))\n",
      "(13, (329482.0311997775, 845062.6250893399))\n",
      "(14, (353001.7186258184, 199653.39056641236))\n",
      "(15, (519162.4374285545, 159243.734567713))\n",
      "(16, (346083.0937405685, 777846.8751171306))\n",
      "(17, (283655.3435612004, 288572.0623741355))\n",
      "(18, (286916.7498100754, 388537.65634870157))\n",
      "(19, (337117.12510132045, 383376.3748756703))\n",
      "(20, (351423.6875867443, 312650.9376458097))\n",
      "(21, (481449.96863648295, 377656.2501989044))\n",
      "(22, (514703.1249547275, 320259.1876816135))\n",
      "(23, (481635.9064317541, 442454.28139493056))\n",
      "(24, (293611.0313050598, 734987.3126786016))\n",
      "(25, (315560.12480949145, 550732.1873132847))\n",
      "(26, (307322.3126135515, 406428.68763264455))\n",
      "(27, (535052.8126392346, 262952.40614270046))\n",
      "(28, (277973.40635684505, 279492.6876548901))\n",
      "(29, (385512.2813325459, 495317.21867847815))\n",
      "(30, (732212.6874409551, 296517.8437576201))\n",
      "(31, (643710.8750015404, 351436.7186606433))\n",
      "(32, (388644.6563661499, 524896.6250510272))\n",
      "(33, (333286.906091081, 631768.8126634844))\n",
      "(34, (301786.6251636995, 310242.9374425132))\n",
      "(35, (436513.46883702464, 250202.703250112))\n",
      "(36, (380193.2187732551, 556545.375161007))\n",
      "(37, (627632.0624175845, 215929.67186661996))\n",
      "(38, (346499.7185552139, 331284.4688841142))\n",
      "(39, (392561.0001131501, 204475.00013284944))\n",
      "(40, (686005.1249094643, 167259.56246566027))\n",
      "(41, (326107.7500055572, 213245.51573855244))\n",
      "(42, (334559.4373508636, 537220.9999968093))\n",
      "(43, (530888.7498263838, 288846.24985555373))\n",
      "(44, (475752.6876790952, 268457.7499068286))\n",
      "(45, (639051.0626880266, 319852.1873719208))\n",
      "(46, (489061.6876839958, 166628.5469765216))\n",
      "(47, (362217.6561565101, 616211.6876826603))\n",
      "(48, (414831.06243688986, 244887.35945494287))\n",
      "(49, (453326.6874254644, 139016.25016329437))\n",
      "(50, (580467.8125918498, 298515.90618494526))\n",
      "(51, (352598.00001352746, 305216.65618524514))\n",
      "(52, (679655.6874141963, 252291.01543676667))\n",
      "(53, (660391.6874309313, 266622.8435827214))\n",
      "(54, (584842.5000757193, 270800.4998278376))\n",
      "(55, (656262.0625180965, 270229.71862312034))\n",
      "(56, (709649.750158038, 371746.5001817979))\n",
      "(57, (457704.46888164803, 181554.71890630946))\n",
      "(58, (343214.031278261, 572201.6875869799))\n",
      "(59, (336974.2186607672, 718780.06245213))\n",
      "(60, (306018.437426066, 271212.34360905737))\n",
      "(61, (268028.84368629754, 591282.1248875502))\n",
      "(62, (723213.2499246178, 116481.84380722977))\n",
      "(63, (371896.8437444782, 332594.12493622676))\n",
      "(64, (530777.3126005149, 312909.90625040047))\n",
      "(65, (641804.6873673275, 119931.10166138783))\n",
      "(66, (559074.8125499608, 133557.73456563242))\n",
      "(67, (506613.68746267725, 388740.9063403588))\n",
      "(68, (332879.25018130895, 424241.4687747881))\n",
      "(69, (542340.8123046914, 174151.95307822898))\n",
      "(70, (722509.5626452509, 138690.5779474117))\n",
      "(71, (273336.8123913286, 630024.8749584444))\n",
      "(72, (361730.53132960014, 227246.23421356454))\n",
      "(73, (319928.65638933796, 432004.00007686764))\n",
      "(74, (326560.2500289185, 574504.6250017919))\n",
      "(75, (509626.9375789808, 125913.4922496695))\n",
      "(76, (317339.4061778188, 339438.12519742176))\n",
      "(77, (326018.24991424195, 600466.7501203679))\n",
      "(78, (724172.375180318, 255473.65642949566))\n",
      "(79, (262681.9686491154, 304111.53133823164))\n",
      "(80, (520503.87488586735, 168500.85947519727))\n",
      "(81, (265141.8126059687, 335534.00001209043))\n",
      "(82, (494592.4688134389, 244354.28141656145))\n",
      "(83, (361879.56245512515, 601396.4374536145))\n",
      "(84, (614269.8750075828, 202734.03111314029))\n",
      "(85, (317145.8439507736, 880685.6873848457))\n",
      "(86, (280656.12517621275, 655714.5625055935))\n",
      "(87, (446302.5310551794, 601912.375000393))\n",
      "(88, (290082.875103008, 809300.6248698123))\n",
      "(89, (276568.5625951681, 236918.9060568642))\n",
      "(90, (487786.62480560225, 218451.23424517177))\n",
      "(91, (320038.74996366166, 482031.56230855733))\n",
      "(92, (306022.7501737196, 693768.6876679137))\n",
      "(93, (507856.5938964756, 453541.5624013711))\n",
      "(94, (309652.0938941017, 803047.5002022944))\n",
      "(95, (464659.5937674213, 207426.67190240882))\n",
      "(96, (683173.8124420699, 320926.34374140576))\n",
      "(97, (425441.4062966341, 346582.4063162096))\n",
      "(98, (306518.87512455415, 241557.5781431906))\n",
      "(99, (718470.437654933, 264551.74993529916))\n",
      "(100, (719703.6875431715, 309066.1250269469))\n",
      "(101, (471263.9689126443, 161127.34384448454))\n",
      "(102, (358157.46857585665, 712667.3750446588))\n",
      "(103, (369248.18737495504, 464145.4373450242))\n",
      "(104, (264405.46855562925, 352242.84386350773))\n"
     ]
    }
   ],
   "source": [
    "## Set path \n",
    "\n",
    "path = \"C:\\\\Users\\\\padu\\\\Desktop\\\\GIS Programming\\\\April14\\\\sqlData\"\n",
    "os.chdir(path)\n",
    "\n",
    "## Set working enviroment \n",
    "arcpy.env.workspace = path\n",
    "\n",
    "## List feature classes \n",
    "featureclasses = arcpy.ListFeatureClasses()\n",
    "featureclasses\n",
    "\n",
    "\n",
    "## Specify name of feature class and append to a list the get the first element of the list\n",
    "FC = []\n",
    "\n",
    "for row in featureclasses:\n",
    "    if row == 'Stations.shp':\n",
    "        FC.append(row)\n",
    "FC = FC[0]\n",
    "\n",
    "print(FC)\n",
    "\n",
    "## Verify if the feature class is a point \n",
    "\n",
    "describe =  arcpy.Describe(FC)\n",
    "describe.ShapeType\n",
    "\n",
    "\n",
    "## look up the field names of the feature class\n",
    "Fields = arcpy.ListFields(FC)\n",
    "for row in Fields:\n",
    "    row.name\n",
    "#     print(row.name)\n",
    "    \n",
    "## Search the cursor for name and shape\n",
    "\n",
    "with arcpy.da.SearchCursor(FC, [\"NAME\",\"Shape@XY\"]) as cursor:\n",
    "    for row in cursor:\n",
    "        print (row)"
   ]
  },
  {
   "cell_type": "code",
   "execution_count": 48,
   "metadata": {},
   "outputs": [
    {
     "name": "stdout",
     "output_type": "stream",
     "text": [
      "FID\n",
      "Shape\n",
      "AREA\n",
      "PERIMETER\n",
      "WSTATIONS_\n",
      "WSTATIONS1\n",
      "STNSNAME\n",
      "STNSCODE\n",
      "AGENCY\n",
      "COUNTY\n",
      "LONGITUDE\n",
      "LATITUDE\n",
      "ELEVATION\n",
      "HUCODE\n",
      "ANN_PREC\n",
      "PRECIP\n"
     ]
    }
   ],
   "source": [
    "Fields = arcpy.ListFields(FC)\n",
    "for row in Fields:\n",
    "    print(row.name)"
   ]
  },
  {
   "cell_type": "code",
   "execution_count": null,
   "metadata": {},
   "outputs": [],
   "source": []
  }
 ],
 "metadata": {
  "kernelspec": {
   "display_name": "Python 3",
   "language": "python",
   "name": "python3"
  },
  "language_info": {
   "codemirror_mode": {
    "name": "ipython",
    "version": 3
   },
   "file_extension": ".py",
   "mimetype": "text/x-python",
   "name": "python",
   "nbconvert_exporter": "python",
   "pygments_lexer": "ipython3",
   "version": "3.7.9"
  }
 },
 "nbformat": 4,
 "nbformat_minor": 4
}
