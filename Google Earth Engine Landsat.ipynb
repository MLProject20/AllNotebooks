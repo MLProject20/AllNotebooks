{
 "cells": [
  {
   "cell_type": "code",
   "execution_count": 4,
   "metadata": {},
   "outputs": [],
   "source": [
    "import os\n",
    "import ee\n",
    "import geemap \n",
    "from geemap.datasets import DATA\n",
    "from geemap import cartoee \n",
    "\n",
    "import ipywidgets as widgets\n",
    "from ipyleaflet import WidgetControl"
   ]
  },
  {
   "cell_type": "code",
   "execution_count": null,
   "metadata": {},
   "outputs": [],
   "source": []
  },
  {
   "cell_type": "code",
   "execution_count": 2,
   "metadata": {},
   "outputs": [],
   "source": [
    "path = \"C:\\\\Users\\\\padu\\\\Desktop\\\\Google Earth Engine\\\\\"\n",
    "os.chdir(path)"
   ]
  },
  {
   "cell_type": "code",
   "execution_count": 6,
   "metadata": {},
   "outputs": [
    {
     "ename": "TypeError",
     "evalue": "'module' object is not callable",
     "output_type": "error",
     "traceback": [
      "\u001b[1;31m---------------------------------------------------------------------------\u001b[0m",
      "\u001b[1;31mTypeError\u001b[0m                                 Traceback (most recent call last)",
      "\u001b[1;32m<ipython-input-6-92ff4a7afe4c>\u001b[0m in \u001b[0;36m<module>\u001b[1;34m\u001b[0m\n\u001b[1;32m----> 1\u001b[1;33m \u001b[0mee\u001b[0m\u001b[1;33m.\u001b[0m\u001b[0mimagecollection\u001b[0m\u001b[1;33m(\u001b[0m\u001b[1;34m\"LE07_L1TP_194054_20021115_20200916_02_T1\"\u001b[0m\u001b[1;33m)\u001b[0m\u001b[1;33m\u001b[0m\u001b[1;33m\u001b[0m\u001b[0m\n\u001b[0m",
      "\u001b[1;31mTypeError\u001b[0m: 'module' object is not callable"
     ]
    }
   ],
   "source": [
    "ee.imagecollection(\"LE07_L1TP_194054_20021115_20200916_02_T1\")"
   ]
  },
  {
   "cell_type": "code",
   "execution_count": 18,
   "metadata": {
    "scrolled": true
   },
   "outputs": [
    {
     "data": {
      "application/vnd.jupyter.widget-view+json": {
       "model_id": "e2843fe94b93464a85c727b719766d48",
       "version_major": 2,
       "version_minor": 0
      },
      "text/plain": [
       "Map(center=[40, -100], controls=(WidgetControl(options=['position', 'transparent_bg'], widget=HBox(children=(T…"
      ]
     },
     "metadata": {},
     "output_type": "display_data"
    }
   ],
   "source": [
    "Kumasi = geemap.Map()\n",
    "Kumasi"
   ]
  },
  {
   "cell_type": "markdown",
   "metadata": {},
   "source": [
    "#### Landsat1 = \"LANDSAT/LM01/C01/T1\" \"1972 – 1999\"\n",
    "#### Landsat 4 = \"LANDSAT/LT04/C01/T1_SR\" 1982 - 1993\n",
    "#### Landsat5 = \"LANDSAT/LT05/C01/T1_SR\" \"1984 – 2012\"\n",
    "#### Landsat7 = \"LANDSAT/LE07/C01/T1_SR\" \"1999 - Present\"\n",
    "#### Landsat8 = \"LANDSAT/LC08/C01/T1_SR\" April 2013 - Present"
   ]
  },
  {
   "cell_type": "code",
   "execution_count": 4,
   "metadata": {},
   "outputs": [],
   "source": [
    "country = 'AshantiRegion.shp'\n",
    "\n",
    "shapefile = geemap.shp_to_ee(country)\n",
    "Kumasi.addLayer(shapefile, {},'Ghana')"
   ]
  },
  {
   "cell_type": "code",
   "execution_count": 5,
   "metadata": {},
   "outputs": [],
   "source": [
    "vizparams = {'bands': ['B5','B4','B3'], 'min':20,'max':200, 'opacity': 1.0, 'gamma':3.2}"
   ]
  },
  {
   "cell_type": "code",
   "execution_count": 11,
   "metadata": {},
   "outputs": [
    {
     "name": "stdout",
     "output_type": "stream",
     "text": [
      "Total number of images: 0\n",
      "\n"
     ]
    }
   ],
   "source": [
    "Kumasi = ee.Geometry.Point([-1.630783,6.700071])\n",
    "\n",
    "data = ee.ImageCollection(\"LANDSAT/LT05/C02/T1_L2\")\\\n",
    "    .filterBounds(Kumasi)\\\n",
    "    .filterDate('1984-01-01','1984-12-31')\n",
    "geemap.ee_export_image_collection(data,out_dir= path)"
   ]
  },
  {
   "cell_type": "code",
   "execution_count": 15,
   "metadata": {},
   "outputs": [
    {
     "name": "stdout",
     "output_type": "stream",
     "text": [
      "LANDSAT/LE08/C01/T1_SR\n",
      "Collection.limit, argument 'ascending': Invalid type.\n",
      "Expected type: Boolean.\n",
      "Actual type: Integer.\n",
      "Actual value: 30\n",
      "LANDSAT/LE08/C01/T2_SR\n",
      "Collection.limit, argument 'ascending': Invalid type.\n",
      "Expected type: Boolean.\n",
      "Actual type: Integer.\n",
      "Actual value: 30\n"
     ]
    }
   ],
   "source": [
    "### Accra [5.55602, -0.1969] lat lon\n",
    "for row in range(1,3,1):\n",
    "\n",
    "\n",
    "    Location = ee.Geometry.Point([-0.8424,9.4034])\n",
    "\n",
    "    data = ee.ImageCollection(\"LANDSAT/LC08/C02/T\" + str(row) +  \"_L2\")\\\n",
    "      .filterBounds(Location)\\\n",
    "      .filterDate('2021-01-01','2021-12-31')\\\n",
    "      .sort(\"CLOUD_COVER\",30)\n",
    "    geemap.ee_export_image_collection(data,out_dir= path)"
   ]
  },
  {
   "cell_type": "code",
   "execution_count": 18,
   "metadata": {
    "scrolled": true
   },
   "outputs": [
    {
     "name": "stdout",
     "output_type": "stream",
     "text": [
      "LANDSAT/LE08/C01/T1_SR\n",
      "Total number of images: 37\n",
      "\n",
      "Exporting 1/37: LC08_194053_20200109.tif\n",
      "Generating URL ...\n",
      "Downloading data from https://earthengine.googleapis.com/v1alpha/projects/earthengine-legacy/thumbnails/d6e82a850316557c599975849004aa02-be91bd41a25218803b3816641a5be501:getPixels\n",
      "Please wait ...\n",
      "Data downloaded to C:\\Users\\padu\\Desktop\\Google Earth Engine\\LC08_194053_20200109.tif\n",
      "\n",
      "\n",
      "Exporting 2/37: LC08_194053_20200125.tif\n",
      "Generating URL ...\n",
      "Downloading data from https://earthengine.googleapis.com/v1alpha/projects/earthengine-legacy/thumbnails/db51621d6066942fcd82b106399a56e8-1ed202123ab45a70c4c84f34cbd301b4:getPixels\n",
      "Please wait ...\n",
      "Data downloaded to C:\\Users\\padu\\Desktop\\Google Earth Engine\\LC08_194053_20200125.tif\n",
      "\n",
      "\n",
      "Exporting 3/37: LC08_194053_20200210.tif\n",
      "Generating URL ...\n",
      "Downloading data from https://earthengine.googleapis.com/v1alpha/projects/earthengine-legacy/thumbnails/eaa629b0e9f95c9598ce0afd34711d69-a8c85e6143b89debd962744c7c5af514:getPixels\n",
      "Please wait ...\n",
      "Data downloaded to C:\\Users\\padu\\Desktop\\Google Earth Engine\\LC08_194053_20200210.tif\n",
      "\n",
      "\n",
      "Exporting 4/37: LC08_194053_20200226.tif\n",
      "Generating URL ...\n",
      "Downloading data from https://earthengine.googleapis.com/v1alpha/projects/earthengine-legacy/thumbnails/bed10b7dba7a96aeaae2edbbe1d8eadb-28fb89c863e6c909fd579a77d392551b:getPixels\n",
      "Please wait ...\n",
      "Data downloaded to C:\\Users\\padu\\Desktop\\Google Earth Engine\\LC08_194053_20200226.tif\n",
      "\n",
      "\n",
      "Exporting 5/37: LC08_194053_20200313.tif\n",
      "Generating URL ...\n",
      "Downloading data from https://earthengine.googleapis.com/v1alpha/projects/earthengine-legacy/thumbnails/75c9a1117af756c7c4f96564318255f4-54fb2a0321990450bd641d1a57a12317:getPixels\n",
      "Please wait ...\n",
      "Data downloaded to C:\\Users\\padu\\Desktop\\Google Earth Engine\\LC08_194053_20200313.tif\n",
      "\n",
      "\n",
      "Exporting 6/37: LC08_194053_20200329.tif\n",
      "Generating URL ...\n",
      "Downloading data from https://earthengine.googleapis.com/v1alpha/projects/earthengine-legacy/thumbnails/6b89940125fd2b6acb390810c61afc45-8160947024ebbe6881fc8a342e25fed2:getPixels\n",
      "Please wait ...\n",
      "Data downloaded to C:\\Users\\padu\\Desktop\\Google Earth Engine\\LC08_194053_20200329.tif\n",
      "\n",
      "\n",
      "Exporting 7/37: LC08_194053_20200414.tif\n",
      "Generating URL ...\n",
      "Downloading data from https://earthengine.googleapis.com/v1alpha/projects/earthengine-legacy/thumbnails/32dfa884f9a6bb4480d8e5330c2d6ae3-bddcbee5fed97e3ef8bca9afa98d6cb0:getPixels\n",
      "Please wait ...\n",
      "Data downloaded to C:\\Users\\padu\\Desktop\\Google Earth Engine\\LC08_194053_20200414.tif\n",
      "\n",
      "\n",
      "Exporting 8/37: LC08_194053_20200430.tif\n",
      "Generating URL ...\n",
      "Downloading data from https://earthengine.googleapis.com/v1alpha/projects/earthengine-legacy/thumbnails/bb13fb6989617e98cc70fe5e225d68ae-76575a0217bec6f569715248fcd18926:getPixels\n",
      "Please wait ...\n",
      "Data downloaded to C:\\Users\\padu\\Desktop\\Google Earth Engine\\LC08_194053_20200430.tif\n",
      "\n",
      "\n",
      "Exporting 9/37: LC08_194053_20200516.tif\n",
      "Generating URL ...\n",
      "Downloading data from https://earthengine.googleapis.com/v1alpha/projects/earthengine-legacy/thumbnails/cd1ceb0168d56941f9eef70d8962ffbc-069322db1096e74fd4ac4c5a5b954b02:getPixels\n",
      "Please wait ...\n",
      "Data downloaded to C:\\Users\\padu\\Desktop\\Google Earth Engine\\LC08_194053_20200516.tif\n",
      "\n",
      "\n",
      "Exporting 10/37: LC08_194053_20200601.tif\n",
      "Generating URL ...\n",
      "Downloading data from https://earthengine.googleapis.com/v1alpha/projects/earthengine-legacy/thumbnails/5476f7821580fc9ae619e1450f0bd203-16b923e5c7baa73fd260626b036cce2c:getPixels\n",
      "Please wait ...\n",
      "Data downloaded to C:\\Users\\padu\\Desktop\\Google Earth Engine\\LC08_194053_20200601.tif\n",
      "\n",
      "\n",
      "Exporting 11/37: LC08_194053_20200617.tif\n",
      "Generating URL ...\n",
      "Downloading data from https://earthengine.googleapis.com/v1alpha/projects/earthengine-legacy/thumbnails/a5ef8ba47f03f5dab881c20cadf0970f-f6304824e18d6629967438b8a2245071:getPixels\n",
      "Please wait ...\n",
      "Data downloaded to C:\\Users\\padu\\Desktop\\Google Earth Engine\\LC08_194053_20200617.tif\n",
      "\n",
      "\n",
      "Exporting 12/37: LC08_194053_20200703.tif\n",
      "Generating URL ...\n",
      "Downloading data from https://earthengine.googleapis.com/v1alpha/projects/earthengine-legacy/thumbnails/e341ecaecb917d71e58a0424162094ef-6e031d8941187579aeb5382e459d5180:getPixels\n",
      "Please wait ...\n",
      "Data downloaded to C:\\Users\\padu\\Desktop\\Google Earth Engine\\LC08_194053_20200703.tif\n",
      "\n",
      "\n",
      "Exporting 13/37: LC08_194053_20200719.tif\n",
      "Generating URL ...\n",
      "Downloading data from https://earthengine.googleapis.com/v1alpha/projects/earthengine-legacy/thumbnails/d86f1969480e280cfa53ae15ec20db43-be1467c96b9f8efcaddbb0ed9fac2e67:getPixels\n",
      "Please wait ...\n",
      "Data downloaded to C:\\Users\\padu\\Desktop\\Google Earth Engine\\LC08_194053_20200719.tif\n",
      "\n",
      "\n",
      "Exporting 14/37: LC08_194053_20200804.tif\n",
      "Generating URL ...\n",
      "Downloading data from https://earthengine.googleapis.com/v1alpha/projects/earthengine-legacy/thumbnails/898c36cd62ad84349986e94ff99a15ed-61ead7fbe5f7dbdcd07a14ceb5a67eb0:getPixels\n",
      "Please wait ...\n",
      "Data downloaded to C:\\Users\\padu\\Desktop\\Google Earth Engine\\LC08_194053_20200804.tif\n",
      "\n",
      "\n",
      "Exporting 15/37: LC08_194053_20200820.tif\n",
      "Generating URL ...\n",
      "Downloading data from https://earthengine.googleapis.com/v1alpha/projects/earthengine-legacy/thumbnails/f5e03724ff939dba31719a55082b93a7-84f9437b558637e8fde16372208a72e9:getPixels\n",
      "Please wait ...\n",
      "Data downloaded to C:\\Users\\padu\\Desktop\\Google Earth Engine\\LC08_194053_20200820.tif\n",
      "\n",
      "\n",
      "Exporting 16/37: LC08_194053_20200921.tif\n",
      "Generating URL ...\n",
      "Downloading data from https://earthengine.googleapis.com/v1alpha/projects/earthengine-legacy/thumbnails/11d99caad8b63529c680b461d8765891-95d7db28f1359939fb64395c722c16d1:getPixels\n",
      "Please wait ...\n",
      "Data downloaded to C:\\Users\\padu\\Desktop\\Google Earth Engine\\LC08_194053_20200921.tif\n",
      "\n",
      "\n",
      "Exporting 17/37: LC08_194053_20201023.tif\n",
      "Generating URL ...\n",
      "Downloading data from https://earthengine.googleapis.com/v1alpha/projects/earthengine-legacy/thumbnails/c816315a335a27a35d84a396a5afd6df-f73965ab345cec559d2795f6d3f803b5:getPixels\n",
      "Please wait ...\n",
      "Data downloaded to C:\\Users\\padu\\Desktop\\Google Earth Engine\\LC08_194053_20201023.tif\n",
      "\n",
      "\n",
      "Exporting 18/37: LC08_194053_20201124.tif\n",
      "Generating URL ...\n",
      "Downloading data from https://earthengine.googleapis.com/v1alpha/projects/earthengine-legacy/thumbnails/1eb263ba87741afec5009dc2791d3573-fd436c6ca710dda19569ab6289bbf9a7:getPixels\n",
      "Please wait ...\n",
      "Data downloaded to C:\\Users\\padu\\Desktop\\Google Earth Engine\\LC08_194053_20201124.tif\n",
      "\n",
      "\n",
      "Exporting 19/37: LC08_194053_20201210.tif\n",
      "Generating URL ...\n",
      "Downloading data from https://earthengine.googleapis.com/v1alpha/projects/earthengine-legacy/thumbnails/902064fd8ed28dbe49983d0a547e23bc-bb0d69bde3e16e19c234851fd88fd055:getPixels\n",
      "Please wait ...\n",
      "Data downloaded to C:\\Users\\padu\\Desktop\\Google Earth Engine\\LC08_194053_20201210.tif\n",
      "\n",
      "\n",
      "Exporting 20/37: LC08_194053_20201226.tif\n",
      "Generating URL ...\n",
      "Downloading data from https://earthengine.googleapis.com/v1alpha/projects/earthengine-legacy/thumbnails/2d5b8c73b8c24a7b3d8c01995dbea5ff-bf5dcb3ea13e7e1ae8ffd4c24947b567:getPixels\n",
      "Please wait ...\n",
      "Data downloaded to C:\\Users\\padu\\Desktop\\Google Earth Engine\\LC08_194053_20201226.tif\n",
      "\n",
      "\n",
      "Exporting 21/37: LC08_194054_20200109.tif\n",
      "Generating URL ...\n",
      "Downloading data from https://earthengine.googleapis.com/v1alpha/projects/earthengine-legacy/thumbnails/7407b3d0e0f851d9b98ab333b56ab433-86b54f04f09ac8c11c6a736441760797:getPixels\n",
      "Please wait ...\n",
      "Data downloaded to C:\\Users\\padu\\Desktop\\Google Earth Engine\\LC08_194054_20200109.tif\n",
      "\n",
      "\n",
      "Exporting 22/37: LC08_194054_20200125.tif\n",
      "Generating URL ...\n",
      "Downloading data from https://earthengine.googleapis.com/v1alpha/projects/earthengine-legacy/thumbnails/680b052442acbb26e9a160537cb5e7f4-d776765e608e8230ff0e8b941737d23b:getPixels\n",
      "Please wait ...\n",
      "Data downloaded to C:\\Users\\padu\\Desktop\\Google Earth Engine\\LC08_194054_20200125.tif\n",
      "\n",
      "\n",
      "Exporting 23/37: LC08_194054_20200210.tif\n",
      "Generating URL ...\n",
      "Downloading data from https://earthengine.googleapis.com/v1alpha/projects/earthengine-legacy/thumbnails/a7c4ab4f1bc056023a9b42e937472f37-6c071c4e2ee86cbd1654ef6f91aba341:getPixels\n",
      "Please wait ...\n",
      "Data downloaded to C:\\Users\\padu\\Desktop\\Google Earth Engine\\LC08_194054_20200210.tif\n",
      "\n",
      "\n",
      "Exporting 24/37: LC08_194054_20200226.tif\n",
      "Generating URL ...\n",
      "Downloading data from https://earthengine.googleapis.com/v1alpha/projects/earthengine-legacy/thumbnails/8b5babdc6e90af654ca2b59cce111118-54179d44a29ec72f5808f969f3e6e07f:getPixels\n",
      "Please wait ...\n"
     ]
    },
    {
     "name": "stdout",
     "output_type": "stream",
     "text": [
      "Data downloaded to C:\\Users\\padu\\Desktop\\Google Earth Engine\\LC08_194054_20200226.tif\n",
      "\n",
      "\n",
      "Exporting 25/37: LC08_194054_20200313.tif\n",
      "Generating URL ...\n",
      "Downloading data from https://earthengine.googleapis.com/v1alpha/projects/earthengine-legacy/thumbnails/0f4d6516cef319360459d8619903129a-2d58801b415fb8c148d604a97ec3a584:getPixels\n",
      "Please wait ...\n",
      "Data downloaded to C:\\Users\\padu\\Desktop\\Google Earth Engine\\LC08_194054_20200313.tif\n",
      "\n",
      "\n",
      "Exporting 26/37: LC08_194054_20200329.tif\n",
      "Generating URL ...\n",
      "Downloading data from https://earthengine.googleapis.com/v1alpha/projects/earthengine-legacy/thumbnails/742793893e14ea6792ab0dbac989e781-4d173eb5c021d8e4d8b272acb360da56:getPixels\n",
      "Please wait ...\n",
      "Data downloaded to C:\\Users\\padu\\Desktop\\Google Earth Engine\\LC08_194054_20200329.tif\n",
      "\n",
      "\n",
      "Exporting 27/37: LC08_194054_20200414.tif\n",
      "Generating URL ...\n",
      "Downloading data from https://earthengine.googleapis.com/v1alpha/projects/earthengine-legacy/thumbnails/4d7303492e5771013bd3ead7f969237a-1eda18ceabf125aaa7d8ef62aef9770a:getPixels\n",
      "Please wait ...\n",
      "Data downloaded to C:\\Users\\padu\\Desktop\\Google Earth Engine\\LC08_194054_20200414.tif\n",
      "\n",
      "\n",
      "Exporting 28/37: LC08_194054_20200430.tif\n",
      "Generating URL ...\n",
      "Downloading data from https://earthengine.googleapis.com/v1alpha/projects/earthengine-legacy/thumbnails/f4928e90237e382cec9f33e572ea896f-a64381d382b707dd184c498ad6ed0c11:getPixels\n",
      "Please wait ...\n",
      "Data downloaded to C:\\Users\\padu\\Desktop\\Google Earth Engine\\LC08_194054_20200430.tif\n",
      "\n",
      "\n",
      "Exporting 29/37: LC08_194054_20200516.tif\n",
      "Generating URL ...\n",
      "Downloading data from https://earthengine.googleapis.com/v1alpha/projects/earthengine-legacy/thumbnails/1245dc5ec594fe1155dfadcc52f2c18c-2cc598e800ca00bf4d07b62f2f4fd912:getPixels\n",
      "Please wait ...\n",
      "Data downloaded to C:\\Users\\padu\\Desktop\\Google Earth Engine\\LC08_194054_20200516.tif\n",
      "\n",
      "\n",
      "Exporting 30/37: LC08_194054_20200601.tif\n",
      "Generating URL ...\n",
      "Downloading data from https://earthengine.googleapis.com/v1alpha/projects/earthengine-legacy/thumbnails/10e322b844b68ac4e64009a404aee7be-41f1269a1bde116af148f28f16c9c72f:getPixels\n",
      "Please wait ...\n",
      "Data downloaded to C:\\Users\\padu\\Desktop\\Google Earth Engine\\LC08_194054_20200601.tif\n",
      "\n",
      "\n",
      "Exporting 31/37: LC08_194054_20200617.tif\n",
      "Generating URL ...\n",
      "Downloading data from https://earthengine.googleapis.com/v1alpha/projects/earthengine-legacy/thumbnails/8faa12f6514e86f814b67289dcd8a209-0df0e04e2b6170c62aa29a9f07955742:getPixels\n",
      "Please wait ...\n",
      "Data downloaded to C:\\Users\\padu\\Desktop\\Google Earth Engine\\LC08_194054_20200617.tif\n",
      "\n",
      "\n",
      "Exporting 32/37: LC08_194054_20200804.tif\n",
      "Generating URL ...\n",
      "Downloading data from https://earthengine.googleapis.com/v1alpha/projects/earthengine-legacy/thumbnails/e2b6a684583dfdfe1173077c2a3102bc-52857499cd43ab1346c2d9363a61e6ff:getPixels\n",
      "Please wait ...\n",
      "Data downloaded to C:\\Users\\padu\\Desktop\\Google Earth Engine\\LC08_194054_20200804.tif\n",
      "\n",
      "\n",
      "Exporting 33/37: LC08_194054_20200820.tif\n",
      "Generating URL ...\n",
      "Downloading data from https://earthengine.googleapis.com/v1alpha/projects/earthengine-legacy/thumbnails/d1773dc17c4f1021d376ec260c26b5d2-0f743852ac9ca5abd602f25f5b2f64e5:getPixels\n",
      "Please wait ...\n",
      "Data downloaded to C:\\Users\\padu\\Desktop\\Google Earth Engine\\LC08_194054_20200820.tif\n",
      "\n",
      "\n",
      "Exporting 34/37: LC08_194054_20201023.tif\n",
      "Generating URL ...\n",
      "Downloading data from https://earthengine.googleapis.com/v1alpha/projects/earthengine-legacy/thumbnails/bfc13e0e084422e5cfad087765674868-0b42c976d1a46fbbb973d0b607b2a4e2:getPixels\n",
      "Please wait ...\n",
      "Data downloaded to C:\\Users\\padu\\Desktop\\Google Earth Engine\\LC08_194054_20201023.tif\n",
      "\n",
      "\n",
      "Exporting 35/37: LC08_194054_20201124.tif\n",
      "Generating URL ...\n",
      "Downloading data from https://earthengine.googleapis.com/v1alpha/projects/earthengine-legacy/thumbnails/50a8a76a2193a3f35b7dd8372c57b9d0-39df6384bc69bc24be45a91dbc7a48f4:getPixels\n",
      "Please wait ...\n",
      "Data downloaded to C:\\Users\\padu\\Desktop\\Google Earth Engine\\LC08_194054_20201124.tif\n",
      "\n",
      "\n",
      "Exporting 36/37: LC08_194054_20201210.tif\n",
      "Generating URL ...\n",
      "Downloading data from https://earthengine.googleapis.com/v1alpha/projects/earthengine-legacy/thumbnails/63fbeed6ec2060ca28b168d908ebc0a6-aafd9e1e8bb3437a6ed277af4ae41949:getPixels\n",
      "Please wait ...\n",
      "Data downloaded to C:\\Users\\padu\\Desktop\\Google Earth Engine\\LC08_194054_20201210.tif\n",
      "\n",
      "\n",
      "Exporting 37/37: LC08_194054_20201226.tif\n",
      "Generating URL ...\n",
      "Downloading data from https://earthengine.googleapis.com/v1alpha/projects/earthengine-legacy/thumbnails/54194d0cd4043342f4028991a4ed6eb5-30cb0d89840cc7ffe9aa18349e2b22b4:getPixels\n",
      "Please wait ...\n",
      "Data downloaded to C:\\Users\\padu\\Desktop\\Google Earth Engine\\LC08_194054_20201226.tif\n",
      "\n",
      "\n",
      "LANDSAT/LE08/C01/T2_SR\n",
      "Total number of images: 0\n",
      "\n"
     ]
    }
   ],
   "source": [
    "### Accra [5.55602, -0.1969] lat lon\n",
    "for row in range(1,3,1):\n",
    "    \n",
    "    print(\"LANDSAT/LE08/C01/T\" + str(row) +  \"_SR\")\n",
    "\n",
    "    Location = ee.Geometry.Point([-0.8424,9.4034])\n",
    "\n",
    "    data = ee.ImageCollection(\"LANDSAT/LE07/C02/T\" + str(row) +  \"_L2\")\\\n",
    "      .filterBounds(Location)\\\n",
    "      .filterDate('2010-01-01','2010-12-31')\n",
    "    geemap.ee_export_image_collection(data,out_dir= path)"
   ]
  },
  {
   "cell_type": "code",
   "execution_count": 16,
   "metadata": {
    "code_folding": [],
    "scrolled": true
   },
   "outputs": [
    {
     "data": {
      "application/vnd.jupyter.widget-view+json": {
       "model_id": "5b13ea7f9520490992c39b0d0bbb15c3",
       "version_major": 2,
       "version_minor": 0
      },
      "text/plain": [
       "Map(center=[6.700071, -1.630783], controls=(WidgetControl(options=['position', 'transparent_bg'], widget=HBox(…"
      ]
     },
     "metadata": {},
     "output_type": "display_data"
    }
   ],
   "source": [
    "Kumasi = geemap.Map()\n",
    "\n",
    "centroid = ee.Geometry.Point([-1.630783,6.700071])\n",
    "\n",
    "data = ee.ImageCollection('LANDSAT/LT05/C01/T2_SR')\\\n",
    "    .filterBounds(centroid)\\\n",
    "    .filterDate('1984-01-01','1984-12-31')\\\n",
    "    .first()\n",
    "\n",
    "viz =  {\n",
    "    'min':0,\n",
    "    'max': 30000,\n",
    "    'bands': ['B4','B3','B2']\n",
    "}\n",
    "Kumasi.centerObject(centroid,8)\n",
    "Kumasi.addLayer(data,viz, 'Landsat-5')\n",
    "Kumasi"
   ]
  },
  {
   "cell_type": "code",
   "execution_count": 8,
   "metadata": {},
   "outputs": [
    {
     "name": "stdout",
     "output_type": "stream",
     "text": [
      "Generating URL ...\n",
      "Downloading data from https://earthengine.googleapis.com/v1alpha/projects/earthengine-legacy/thumbnails/e79524e34f61ef052ff79f2debf05259-0034616fc7eb321b90a7cdbdaede14c1:getPixels\n",
      "Please wait ...\n",
      "Data downloaded to C:\\Users\\padu\\Desktop\\Google Earth Engine\\Landsa51_2010_01_Jan_31_Dec.tif\n"
     ]
    }
   ],
   "source": [
    "geemap.ee_export_image(data,\"Landsa51_2010_01_Jan_31_Dec.tif\")"
   ]
  },
  {
   "cell_type": "code",
   "execution_count": 9,
   "metadata": {},
   "outputs": [
    {
     "data": {
      "text/plain": [
       "ee.imagecollection.ImageCollection"
      ]
     },
     "execution_count": 9,
     "metadata": {},
     "output_type": "execute_result"
    }
   ],
   "source": [
    "data = ee.ImageCollection(\"USDA/NAIP/DOQQ\")\n",
    "type(data)"
   ]
  },
  {
   "cell_type": "code",
   "execution_count": 10,
   "metadata": {},
   "outputs": [
    {
     "data": {
      "application/vnd.jupyter.widget-view+json": {
       "model_id": "d1406cd07713494789bf0aea386d54f5",
       "version_major": 2,
       "version_minor": 0
      },
      "text/plain": [
       "Map(center=[6.700071, -1.630783], controls=(WidgetControl(options=['position', 'transparent_bg'], widget=HBox(…"
      ]
     },
     "metadata": {},
     "output_type": "display_data"
    }
   ],
   "source": [
    "KumasiLandsat = geemap.Map()\n",
    "\n",
    "lon = -1.630783\n",
    "lat = 6.700071\n",
    "\n",
    "start_year = 1984\n",
    "end_year = 2000\n",
    "\n",
    "point = ee.Geometry.Point([lon,lat])\n",
    "\n",
    "years = ee.List.sequence(start_year, end_year)\n",
    "\n",
    "\n",
    "def get_best_image(year):\n",
    "    start_date = ee.Date.fromYMD(year,1,1)\n",
    "    end_date = ee.Date.fromYMD(year,12,31)\n",
    "    image = ee.ImageCollection(\"LANDSAT/LT05/C01/T1_SR\")\\\n",
    "        .filterBounds(point)\\\n",
    "        .filterDate(start_date,end_date)\\\n",
    "        .sort(\"CLOUD_COVER\")\\\n",
    "        .first()\n",
    "    return image\n",
    "\n",
    "collection = ee.ImageCollection(years.map(get_best_image))\n",
    "\n",
    "vizparam = {\n",
    "    'bands': ['B4','B3','B2'],\n",
    "    'min': 0,\n",
    "    'max': 5000\n",
    "}\n",
    "\n",
    "image = ee.Image(collection.first())\n",
    "KumasiLandsat.addLayer(image, vizparam,'First image')\n",
    "KumasiLandsat.setCenter(lon,lat,8)\n",
    "KumasiLandsat"
   ]
  },
  {
   "cell_type": "code",
   "execution_count": 11,
   "metadata": {},
   "outputs": [],
   "source": [
    "loc = ee.Geometry.Point(-1.630783,6.700071)\n",
    "collection = ee.ImageCollection(\"LANDSAT/LE07/C01/T1_SR\")\\\n",
    "    .filterBounds(loc)\\\n",
    "    .filterDate('2000-01-01','2000-12-31')"
   ]
  },
  {
   "cell_type": "code",
   "execution_count": 19,
   "metadata": {
    "scrolled": false
   },
   "outputs": [
    {
     "name": "stdout",
     "output_type": "stream",
     "text": [
      "ImageCollection.load: ImageCollection asset 'LC08_L1TP_194054_20210706_20210713_02_T1' not found.\n"
     ]
    }
   ],
   "source": [
    "geemap.ee_export_image_collection(collection,out_dir= path)"
   ]
  },
  {
   "cell_type": "code",
   "execution_count": null,
   "metadata": {},
   "outputs": [],
   "source": []
  }
 ],
 "metadata": {
  "kernelspec": {
   "display_name": "Python 3 (ipykernel)",
   "language": "python",
   "name": "python3"
  },
  "language_info": {
   "codemirror_mode": {
    "name": "ipython",
    "version": 3
   },
   "file_extension": ".py",
   "mimetype": "text/x-python",
   "name": "python",
   "nbconvert_exporter": "python",
   "pygments_lexer": "ipython3",
   "version": "3.7.10"
  }
 },
 "nbformat": 4,
 "nbformat_minor": 4
}
