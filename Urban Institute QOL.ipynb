{
 "cells": [
  {
   "cell_type": "markdown",
   "metadata": {},
   "source": [
    "### Import Libraries "
   ]
  },
  {
   "cell_type": "code",
   "execution_count": 1,
   "metadata": {},
   "outputs": [],
   "source": [
    "import arcpy \n",
    "import os\n",
    "import pandas as pd\n",
    "import UIGeocoder as UIG\n",
    "import UIProximity as UIP\n",
    "import UIImpervious as UIM\n",
    "import UIAggregate as UIA"
   ]
  },
  {
   "cell_type": "code",
   "execution_count": 2,
   "metadata": {},
   "outputs": [],
   "source": [
    "path =  \"C:\\\\Users\\\\padu\\\\Desktop\\\\UrbanInstitute\\\\Proximity Variables\\\\\"\n",
    "os.chdir(path)"
   ]
  },
  {
   "cell_type": "code",
   "execution_count": 3,
   "metadata": {},
   "outputs": [],
   "source": [
    "GISproject = r\"C:\\\\Users\\\\padu\\\\Desktop\\\\UrbanInstitute\\\\Proximity Variables\\\\Proximity Variables.aprx\"\n",
    "ProjectGDB =  r\"C:\\\\Users\\\\padu\\\\Desktop\\\\UrbanInstitute\\\\Proximity Variables.gdb\"\n",
    "arcpy.env.overwriteOutput = True\n",
    "arcpy.env.workspace = ProjectGDB"
   ]
  },
  {
   "cell_type": "markdown",
   "metadata": {},
   "source": [
    "### Geocoding"
   ]
  },
  {
   "cell_type": "markdown",
   "metadata": {},
   "source": [
    "### Preview CSV to be Geocode and check the column names you would use"
   ]
  },
  {
   "cell_type": "code",
   "execution_count": 4,
   "metadata": {},
   "outputs": [
    {
     "data": {
      "text/plain": [
       "Index(['ADDRESS', 'BKCLASS', 'CBSA', 'CBSA_DIV', 'CBSA_DIV_FLG', 'CBSA_DIV_NO',\n",
       "       'CBSA_METRO', 'CBSA_METRO_FLG', 'CBSA_METRO_NAME', 'CBSA_MICRO_FLG',\n",
       "       'CBSA_NO', 'CERT', 'CITY', 'COUNTY', 'CSA', 'CSA_FLG', 'CSA_NO',\n",
       "       'ESTYMD', 'FI_UNINUM', 'MAINOFF', 'NAME', 'OFFNAME', 'OFFNUM',\n",
       "       'RUNDATE', 'SERVTYPE', 'STALP', 'STCNTY', 'STNAME', 'UNINUM', 'ZIP'],\n",
       "      dtype='object')"
      ]
     },
     "execution_count": 4,
     "metadata": {},
     "output_type": "execute_result"
    }
   ],
   "source": [
    "Banks = pd.read_csv('Bank.csv')\n",
    "Banks.columns"
   ]
  },
  {
   "cell_type": "markdown",
   "metadata": {},
   "source": [
    "### Geocoding "
   ]
  },
  {
   "cell_type": "markdown",
   "metadata": {},
   "source": [
    "- In this example the Banks csv data  has multiple columns and we are using the :\n",
    "    - Address, City, County, Stname and Zip columns for our geocoding\n",
    "    - After those fields have been initialized, we use the UIGeocode to run the actual geocoding \n",
    "    - Here there are three arguments needed for the UIGeocode\n",
    "      - The input CSV in this example Bank.csv\n",
    "      - The address locator we are referencing.\n",
    "      - And the name of the output feature class"
   ]
  },
  {
   "cell_type": "code",
   "execution_count": 5,
   "metadata": {},
   "outputs": [
    {
     "name": "stdout",
     "output_type": "stream",
     "text": [
      "Initializing the input address fields\n",
      "Adding address fields to the address table\n",
      "Done adding address fields \n",
      "Geocoding addressses with the CompositePointUI.loc address locator\n",
      "The output feature class for this geocoding is BanksUI\n",
      "251 were sucessfully geocoded\n",
      "Start Time: Thursday, September 15, 2022 6:52:44 PM\n",
      "Row Count = 251\n",
      "Succeeded at Thursday, September 15, 2022 6:52:45 PM (Elapsed Time: 0.16 seconds)\n"
     ]
    }
   ],
   "source": [
    "G = UIG.Geocoder('ADDRESS','CITY','COUNTY','STNAME','ZIP')\n",
    "G.UIGeocode('Bank.csv','CompositePointUI.loc','BanksUI')"
   ]
  },
  {
   "cell_type": "code",
   "execution_count": 6,
   "metadata": {},
   "outputs": [
    {
     "data": {
      "text/plain": [
       "Index(['CU_NUMBER', 'CYCLE_DATE', 'JOIN_NUMBER', 'SiteId', 'CU_NAME',\n",
       "       'SiteName', 'SiteTypeName', 'MainOffice', 'PhysicalAddressLine1',\n",
       "       'PhysicalAddressLine2', 'PhysicalAddressCity',\n",
       "       'PhysicalAddressStateCode', 'PhysicalAddressPostalCode',\n",
       "       'PhysicalAddressCountyName', 'PhysicalAddressCountry',\n",
       "       'MailingAddressLine1', 'MailingAddressLine2', 'MailingAddressCity',\n",
       "       'MailingAddressStateCode', 'MailingAddressStateName',\n",
       "       'MailingAddressPostalCode', 'PhoneNumber', 'HoursOfOperation',\n",
       "       'MemberServices', 'ATM', 'DriveThru'],\n",
       "      dtype='object')"
      ]
     },
     "execution_count": 6,
     "metadata": {},
     "output_type": "execute_result"
    }
   ],
   "source": [
    "Credit = pd.read_csv('CreditUnion.csv')\n",
    "Credit.columns"
   ]
  },
  {
   "cell_type": "code",
   "execution_count": 7,
   "metadata": {},
   "outputs": [
    {
     "name": "stdout",
     "output_type": "stream",
     "text": [
      "Initializing the input address fields\n",
      "Adding address fields to the address table\n",
      "Done adding address fields \n",
      "Geocoding addressses with the CompositePointUI.loc address locator\n",
      "The output feature class for this geocoding is CreditUI\n",
      "62 were sucessfully geocoded\n",
      "Start Time: Thursday, September 15, 2022 6:52:54 PM\n",
      "Row Count = 62\n",
      "Succeeded at Thursday, September 15, 2022 6:52:55 PM (Elapsed Time: 0.16 seconds)\n"
     ]
    }
   ],
   "source": [
    "G = UIG.Geocoder('PhysicalAddressLine1','PhysicalAddressCity','PhysicalAddressCountyName',\n",
    "                 'PhysicalAddressCountry','<None>')\n",
    "G.UIGeocode('CreditUnion.csv','CompositePointUI.loc','CreditUI')"
   ]
  },
  {
   "cell_type": "markdown",
   "metadata": {},
   "source": [
    "### Proximity"
   ]
  },
  {
   "cell_type": "markdown",
   "metadata": {},
   "source": [
    "- In this example proximity to financial services is analyzed. Here the proximity class is initialized with 3 arguments:\n",
    " - The tax parcel data \n",
    " - Proxmity variable \n",
    " - Outputname for proximity analysis\n",
    " - The function is run like this : proximity('TaxData2021','BanksCreditUnionMerged','Banks_CreditUnion_2020')\n",
    " \n",
    " - if there are two or more feature classes that needs to be merged, like we have for this example for Banks and Credit Unions , the merged function is called.\n",
    " \n",
    " - The merge function is run like this merge('BanksUI','CreditUI')\n",
    " \n",
    " \n",
    " - A required new field is added to the new tax parcel data\n",
    "   the function is run like this addfield('ResNearBanks')\n",
    " \n",
    " - Summary tables are created for all residential units and residential units that are near proximity variable using \n",
    "   the summary table. The method takes three arguments \n",
    "    - Residential units table \n",
    "    - All residenitial units tables\n",
    "    - Geodatabase where table is exported \n",
    "   \n",
    " - The exportcsv method exports output of our proxmity analysis. It output location and name of the output csv as input\n",
    " \n",
    " \n",
    " \n"
   ]
  },
  {
   "cell_type": "code",
   "execution_count": 8,
   "metadata": {},
   "outputs": [
    {
     "name": "stdout",
     "output_type": "stream",
     "text": [
      "Converting feature classes  into readble arcpy format\n",
      "('BanksUI', 'CreditUI') will be merged and named BanksCreditUnionMerged\n",
      "Merging Feature classes\n",
      "Done merging\n",
      "The Feature class has 313 features\n",
      "Adding a fieldname ResNearBanks\n",
      "Done adding field name\n",
      "Running near analysis and filtering near parcels for summary\n",
      "Calculating residential parcel within 0.5 miles of BanksCreditUnionMerged\n",
      "Querying residential parcels the where near distance is greater than 0 \n",
      "Total residential parcels selected: 76337\n",
      "If near distance is greater than 0 ResNearBanks = 1\n"
     ]
    },
    {
     "ename": "ExecuteError",
     "evalue": "ERROR 000574: Python is not installed.\nERROR 000574: Python is not installed.\nERROR 000574: Python is not installed.\nERROR 000574: Python is not installed.\nERROR 000574: Python is not installed.\nERROR 000574: Python is not installed.\nERROR 000574: Python is not installed.\nFailed to execute (CalculateField).\n",
     "output_type": "error",
     "traceback": [
      "\u001b[1;31m---------------------------------------------------------------------------\u001b[0m",
      "\u001b[1;31mExecuteError\u001b[0m                              Traceback (most recent call last)",
      "\u001b[1;32m<ipython-input-8-42a209345723>\u001b[0m in \u001b[0;36m<module>\u001b[1;34m\u001b[0m\n\u001b[0;32m      2\u001b[0m \u001b[0mP\u001b[0m\u001b[1;33m.\u001b[0m\u001b[0mmerge\u001b[0m\u001b[1;33m(\u001b[0m\u001b[1;34m'BanksUI'\u001b[0m\u001b[1;33m,\u001b[0m\u001b[1;34m'CreditUI'\u001b[0m\u001b[1;33m)\u001b[0m\u001b[1;33m\u001b[0m\u001b[1;33m\u001b[0m\u001b[0m\n\u001b[0;32m      3\u001b[0m \u001b[0mP\u001b[0m\u001b[1;33m.\u001b[0m\u001b[0maddfield\u001b[0m\u001b[1;33m(\u001b[0m\u001b[1;34m'ResNearBanks'\u001b[0m\u001b[1;33m)\u001b[0m\u001b[1;33m\u001b[0m\u001b[1;33m\u001b[0m\u001b[0m\n\u001b[1;32m----> 4\u001b[1;33m \u001b[0mP\u001b[0m\u001b[1;33m.\u001b[0m\u001b[0msummarize\u001b[0m\u001b[1;33m(\u001b[0m\u001b[1;34m'ParcelNPA2020'\u001b[0m\u001b[1;33m,\u001b[0m\u001b[1;34m'ALLNPA202'\u001b[0m\u001b[1;33m,\u001b[0m\u001b[0mProjectGDB\u001b[0m\u001b[1;33m)\u001b[0m\u001b[1;33m\u001b[0m\u001b[1;33m\u001b[0m\u001b[0m\n\u001b[0m\u001b[0;32m      5\u001b[0m \u001b[0mP\u001b[0m\u001b[1;33m.\u001b[0m\u001b[0mexportcsv\u001b[0m\u001b[1;33m(\u001b[0m\u001b[0mpath\u001b[0m\u001b[1;33m,\u001b[0m\u001b[1;34m'ProximityToFinancialServicesTest.csv'\u001b[0m\u001b[1;33m)\u001b[0m\u001b[1;33m\u001b[0m\u001b[1;33m\u001b[0m\u001b[0m\n",
      "\u001b[1;32mC:\\Program Files\\ArcGIS\\Pro\\bin\\Python\\envs\\arcgispro-py3\\lib\\site-packages\\UIProximity.py\u001b[0m in \u001b[0;36msummarize\u001b[1;34m(self, NearResidentialOutputTable, HousingUnitsTable, Geodatabase)\u001b[0m\n\u001b[0;32m    142\u001b[0m         \u001b[0mprint\u001b[0m\u001b[1;33m(\u001b[0m\u001b[1;34m\"Running near analysis and filtering near parcels for summary\"\u001b[0m\u001b[1;33m)\u001b[0m\u001b[1;33m\u001b[0m\u001b[1;33m\u001b[0m\u001b[0m\n\u001b[0;32m    143\u001b[0m \u001b[1;33m\u001b[0m\u001b[0m\n\u001b[1;32m--> 144\u001b[1;33m         \u001b[0mNear_Parcels\u001b[0m \u001b[1;33m=\u001b[0m \u001b[0mself\u001b[0m\u001b[1;33m.\u001b[0m\u001b[0mnearanalysis\u001b[0m\u001b[1;33m(\u001b[0m\u001b[1;33m)\u001b[0m\u001b[1;33m\u001b[0m\u001b[1;33m\u001b[0m\u001b[0m\n\u001b[0m\u001b[0;32m    145\u001b[0m \u001b[1;33m\u001b[0m\u001b[0m\n\u001b[0;32m    146\u001b[0m         \u001b[0mprint\u001b[0m\u001b[1;33m(\u001b[0m\u001b[1;34m'Summarizing sum of units that are near residential units'\u001b[0m\u001b[1;33m)\u001b[0m\u001b[1;33m\u001b[0m\u001b[1;33m\u001b[0m\u001b[0m\n",
      "\u001b[1;32mC:\\Program Files\\ArcGIS\\Pro\\bin\\Python\\envs\\arcgispro-py3\\lib\\site-packages\\UIProximity.py\u001b[0m in \u001b[0;36mnearanalysis\u001b[1;34m(self)\u001b[0m\n\u001b[0;32m    106\u001b[0m \u001b[1;33m\u001b[0m\u001b[0m\n\u001b[0;32m    107\u001b[0m         \u001b[0mprint\u001b[0m\u001b[1;33m(\u001b[0m\u001b[1;34m'If near distance is greater than 0 '\u001b[0m \u001b[1;33m+\u001b[0m \u001b[0mself\u001b[0m\u001b[1;33m.\u001b[0m\u001b[0mNewFieldName\u001b[0m \u001b[1;33m+\u001b[0m \u001b[1;34m\" = 1\"\u001b[0m\u001b[1;33m)\u001b[0m\u001b[1;33m\u001b[0m\u001b[1;33m\u001b[0m\u001b[0m\n\u001b[1;32m--> 108\u001b[1;33m         \u001b[0marcpy\u001b[0m\u001b[1;33m.\u001b[0m\u001b[0mmanagement\u001b[0m\u001b[1;33m.\u001b[0m\u001b[0mCalculateField\u001b[0m\u001b[1;33m(\u001b[0m\u001b[0mselection\u001b[0m\u001b[1;33m,\u001b[0m \u001b[0mself\u001b[0m\u001b[1;33m.\u001b[0m\u001b[0mNewFieldName\u001b[0m\u001b[1;33m,\u001b[0m \u001b[1;36m1\u001b[0m \u001b[1;33m,\u001b[0m \u001b[1;34m\"PYTHON3\"\u001b[0m\u001b[1;33m,\u001b[0m \u001b[1;34m''\u001b[0m\u001b[1;33m,\u001b[0m\u001b[1;34m\"DOUBLE\"\u001b[0m\u001b[1;33m)\u001b[0m\u001b[1;33m\u001b[0m\u001b[1;33m\u001b[0m\u001b[0m\n\u001b[0m\u001b[0;32m    109\u001b[0m \u001b[1;33m\u001b[0m\u001b[0m\n\u001b[0;32m    110\u001b[0m         \u001b[0mprint\u001b[0m\u001b[1;33m(\u001b[0m\u001b[1;34m'Select all parcels where '\u001b[0m \u001b[1;33m+\u001b[0m \u001b[0mself\u001b[0m\u001b[1;33m.\u001b[0m\u001b[0mNewFieldName\u001b[0m \u001b[1;33m+\u001b[0m \u001b[1;34m' =1'\u001b[0m\u001b[1;33m)\u001b[0m\u001b[1;33m\u001b[0m\u001b[1;33m\u001b[0m\u001b[0m\n",
      "\u001b[1;32mC:\\Program Files\\ArcGIS\\Pro\\Resources\\ArcPy\\arcpy\\management.py\u001b[0m in \u001b[0;36mCalculateField\u001b[1;34m(in_table, field, expression, expression_type, code_block, field_type, enforce_domains)\u001b[0m\n\u001b[0;32m   5784\u001b[0m         \u001b[1;32mreturn\u001b[0m \u001b[0mretval\u001b[0m\u001b[1;33m\u001b[0m\u001b[1;33m\u001b[0m\u001b[0m\n\u001b[0;32m   5785\u001b[0m     \u001b[1;32mexcept\u001b[0m \u001b[0mException\u001b[0m \u001b[1;32mas\u001b[0m \u001b[0me\u001b[0m\u001b[1;33m:\u001b[0m\u001b[1;33m\u001b[0m\u001b[1;33m\u001b[0m\u001b[0m\n\u001b[1;32m-> 5786\u001b[1;33m         \u001b[1;32mraise\u001b[0m \u001b[0me\u001b[0m\u001b[1;33m\u001b[0m\u001b[1;33m\u001b[0m\u001b[0m\n\u001b[0m\u001b[0;32m   5787\u001b[0m \u001b[1;33m\u001b[0m\u001b[0m\n\u001b[0;32m   5788\u001b[0m \u001b[1;33m@\u001b[0m\u001b[0mgptooldoc\u001b[0m\u001b[1;33m(\u001b[0m\u001b[1;34m'CalculateFields_management'\u001b[0m\u001b[1;33m,\u001b[0m \u001b[1;32mNone\u001b[0m\u001b[1;33m)\u001b[0m\u001b[1;33m\u001b[0m\u001b[1;33m\u001b[0m\u001b[0m\n",
      "\u001b[1;32mC:\\Program Files\\ArcGIS\\Pro\\Resources\\ArcPy\\arcpy\\management.py\u001b[0m in \u001b[0;36mCalculateField\u001b[1;34m(in_table, field, expression, expression_type, code_block, field_type, enforce_domains)\u001b[0m\n\u001b[0;32m   5781\u001b[0m     \u001b[1;32mfrom\u001b[0m \u001b[0marcpy\u001b[0m\u001b[1;33m.\u001b[0m\u001b[0marcobjects\u001b[0m\u001b[1;33m.\u001b[0m\u001b[0marcobjectconversion\u001b[0m \u001b[1;32mimport\u001b[0m \u001b[0mconvertArcObjectToPythonObject\u001b[0m\u001b[1;33m\u001b[0m\u001b[1;33m\u001b[0m\u001b[0m\n\u001b[0;32m   5782\u001b[0m     \u001b[1;32mtry\u001b[0m\u001b[1;33m:\u001b[0m\u001b[1;33m\u001b[0m\u001b[1;33m\u001b[0m\u001b[0m\n\u001b[1;32m-> 5783\u001b[1;33m         \u001b[0mretval\u001b[0m \u001b[1;33m=\u001b[0m \u001b[0mconvertArcObjectToPythonObject\u001b[0m\u001b[1;33m(\u001b[0m\u001b[0mgp\u001b[0m\u001b[1;33m.\u001b[0m\u001b[0mCalculateField_management\u001b[0m\u001b[1;33m(\u001b[0m\u001b[1;33m*\u001b[0m\u001b[0mgp_fixargs\u001b[0m\u001b[1;33m(\u001b[0m\u001b[1;33m(\u001b[0m\u001b[0min_table\u001b[0m\u001b[1;33m,\u001b[0m \u001b[0mfield\u001b[0m\u001b[1;33m,\u001b[0m \u001b[0mexpression\u001b[0m\u001b[1;33m,\u001b[0m \u001b[0mexpression_type\u001b[0m\u001b[1;33m,\u001b[0m \u001b[0mcode_block\u001b[0m\u001b[1;33m,\u001b[0m \u001b[0mfield_type\u001b[0m\u001b[1;33m,\u001b[0m \u001b[0menforce_domains\u001b[0m\u001b[1;33m)\u001b[0m\u001b[1;33m,\u001b[0m \u001b[1;32mTrue\u001b[0m\u001b[1;33m)\u001b[0m\u001b[1;33m)\u001b[0m\u001b[1;33m)\u001b[0m\u001b[1;33m\u001b[0m\u001b[1;33m\u001b[0m\u001b[0m\n\u001b[0m\u001b[0;32m   5784\u001b[0m         \u001b[1;32mreturn\u001b[0m \u001b[0mretval\u001b[0m\u001b[1;33m\u001b[0m\u001b[1;33m\u001b[0m\u001b[0m\n\u001b[0;32m   5785\u001b[0m     \u001b[1;32mexcept\u001b[0m \u001b[0mException\u001b[0m \u001b[1;32mas\u001b[0m \u001b[0me\u001b[0m\u001b[1;33m:\u001b[0m\u001b[1;33m\u001b[0m\u001b[1;33m\u001b[0m\u001b[0m\n",
      "\u001b[1;32mC:\\Program Files\\ArcGIS\\Pro\\Resources\\ArcPy\\arcpy\\geoprocessing\\_base.py\u001b[0m in \u001b[0;36m<lambda>\u001b[1;34m(*args)\u001b[0m\n\u001b[0;32m    510\u001b[0m         \u001b[0mval\u001b[0m \u001b[1;33m=\u001b[0m \u001b[0mgetattr\u001b[0m\u001b[1;33m(\u001b[0m\u001b[0mself\u001b[0m\u001b[1;33m.\u001b[0m\u001b[0m_gp\u001b[0m\u001b[1;33m,\u001b[0m \u001b[0mattr\u001b[0m\u001b[1;33m)\u001b[0m\u001b[1;33m\u001b[0m\u001b[1;33m\u001b[0m\u001b[0m\n\u001b[0;32m    511\u001b[0m         \u001b[1;32mif\u001b[0m \u001b[0mcallable\u001b[0m\u001b[1;33m(\u001b[0m\u001b[0mval\u001b[0m\u001b[1;33m)\u001b[0m\u001b[1;33m:\u001b[0m\u001b[1;33m\u001b[0m\u001b[1;33m\u001b[0m\u001b[0m\n\u001b[1;32m--> 512\u001b[1;33m             \u001b[1;32mreturn\u001b[0m \u001b[1;32mlambda\u001b[0m \u001b[1;33m*\u001b[0m\u001b[0margs\u001b[0m\u001b[1;33m:\u001b[0m \u001b[0mval\u001b[0m\u001b[1;33m(\u001b[0m\u001b[1;33m*\u001b[0m\u001b[0mgp_fixargs\u001b[0m\u001b[1;33m(\u001b[0m\u001b[0margs\u001b[0m\u001b[1;33m,\u001b[0m \u001b[1;32mTrue\u001b[0m\u001b[1;33m)\u001b[0m\u001b[1;33m)\u001b[0m\u001b[1;33m\u001b[0m\u001b[1;33m\u001b[0m\u001b[0m\n\u001b[0m\u001b[0;32m    513\u001b[0m         \u001b[1;32melse\u001b[0m\u001b[1;33m:\u001b[0m\u001b[1;33m\u001b[0m\u001b[1;33m\u001b[0m\u001b[0m\n\u001b[0;32m    514\u001b[0m             \u001b[1;32mreturn\u001b[0m \u001b[0mconvertArcObjectToPythonObject\u001b[0m\u001b[1;33m(\u001b[0m\u001b[0mval\u001b[0m\u001b[1;33m)\u001b[0m\u001b[1;33m\u001b[0m\u001b[1;33m\u001b[0m\u001b[0m\n",
      "\u001b[1;31mExecuteError\u001b[0m: ERROR 000574: Python is not installed.\nERROR 000574: Python is not installed.\nERROR 000574: Python is not installed.\nERROR 000574: Python is not installed.\nERROR 000574: Python is not installed.\nERROR 000574: Python is not installed.\nERROR 000574: Python is not installed.\nFailed to execute (CalculateField).\n"
     ]
    }
   ],
   "source": [
    "P = UIP.proximity('TaxData2021','BanksCreditUnionMerged','Banks_CreditUnion_2020')\n",
    "P.merge('BanksUI','CreditUI')\n",
    "P.addfield('ResNearBanks')\n",
    "P.summarize('ParcelNPA2020','ALLNPA202',ProjectGDB)\n",
    "P.exportcsv(path,'ProximityToFinancialServicesTest.csv')"
   ]
  },
  {
   "cell_type": "code",
   "execution_count": null,
   "metadata": {},
   "outputs": [],
   "source": [
    "# Additonal Examples\n",
    "# Proximity to Public Transit\n",
    "\n",
    "P = UIP.proximity('TaxData2021','PublicTransport','PublicTransit')\n",
    "P.merge('CATS_BusStops2019','GoldLine2016','LynxBlueLineStation')\n",
    "P.addfield('ResNearTransit')\n",
    "P.summarize('ParcelNPA2020','ALLNPA202',ProjectGDB)\n",
    "P.exportcsv(path,'ProximityToTransit.csv')"
   ]
  },
  {
   "cell_type": "code",
   "execution_count": null,
   "metadata": {},
   "outputs": [],
   "source": [
    "# Additonal Examples\n",
    "# Proximity to Grocery\n",
    "\n",
    "\n",
    "P = UIP.proximity('TaxData2021','GroceryStores2021','Grocery')\n",
    "P.addfield('ResNearGrocery')\n",
    "P.summarize('ParcelNPAUnits','ALLNPAUnits',ProjectGDB)\n",
    "P.exportcsv(path,'ProximityToGrocery.csv')"
   ]
  },
  {
   "cell_type": "markdown",
   "metadata": {},
   "source": [
    "### Impervious Surface"
   ]
  },
  {
   "cell_type": "markdown",
   "metadata": {},
   "source": [
    "- The impervious surface method is initialized with three arguments :\n",
    "    - Single family feature class \n",
    "    - commercial feature class \n",
    "    - Output name for union analyiss\n",
    "- After initializing, the next step is to run the intersect method. The intersect method takes two arguments\n",
    "    - NPA featureclass\n",
    "    - Name of output feature class for intersect analysis\n",
    "    \n",
    "- The exportcsv is the last step for the intersect analysis. It takes two arguments. \n",
    "    - The output path of the intersect analysis\n",
    "    - Name of the intersect input csv"
   ]
  },
  {
   "cell_type": "code",
   "execution_count": null,
   "metadata": {},
   "outputs": [],
   "source": [
    "I = UIM.Impervious('Singlefamily_Impervious_2021','Commercial_Impervious_2021','Impervious2021')\n",
    "I.intersect('NPA','IntersectImpervious2021')\n",
    "I.exportcsv(path,'Impervious.csv')"
   ]
  },
  {
   "cell_type": "markdown",
   "metadata": {},
   "source": [
    "### Aggregation"
   ]
  },
  {
   "cell_type": "markdown",
   "metadata": {},
   "source": [
    "- The aggregate class is initialized with no arguments.This class has two methods:\n",
    "    - The *withinNPA* method: This method aggregates point features classes that are completely contained by each NPA \n",
    "      The withinNPA method takes two arguments: \n",
    "       - NPA feature class\n",
    "       - Point feature class to be aggregated\n",
    "       - Name of output feature class\n",
    "        \n",
    "    - The *withNPAID* method: This method assign NPA IDs to point feature classes that are completely within each NPA\n",
    "       - Point feature classes \n",
    "       - NPA feature class \n",
    "       - Name of output feature class"
   ]
  },
  {
   "cell_type": "code",
   "execution_count": null,
   "metadata": {},
   "outputs": [],
   "source": [
    "A = UIA.aggregate()\n",
    "A.withinNPA('NPA','BanksUI','BanksNPA')\n",
    "A.withNPAID('CreditUI','NPA', 'CreditNPAID')"
   ]
  },
  {
   "cell_type": "code",
   "execution_count": null,
   "metadata": {},
   "outputs": [],
   "source": []
  }
 ],
 "metadata": {
  "kernelspec": {
   "display_name": "Python 3 (ipykernel)",
   "language": "python",
   "name": "python3"
  },
  "language_info": {
   "codemirror_mode": {
    "name": "ipython",
    "version": 3
   },
   "file_extension": ".py",
   "mimetype": "text/x-python",
   "name": "python",
   "nbconvert_exporter": "python",
   "pygments_lexer": "ipython3",
   "version": "3.9.11"
  }
 },
 "nbformat": 4,
 "nbformat_minor": 4
}
