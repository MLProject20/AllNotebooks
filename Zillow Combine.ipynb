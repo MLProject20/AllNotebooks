{
 "cells": [
  {
   "cell_type": "code",
   "execution_count": 18,
   "metadata": {},
   "outputs": [],
   "source": [
    "import requests\n",
    "import time\n",
    "from bs4 import BeautifulSoup\n",
    "from random import sample \n",
    "import re\n",
    "import glob as gb\n",
    "import pandas as pd \n",
    "import shutil as sh\n",
    "import os\n",
    "from selenium import webdriver\n",
    "import json\n",
    "import csv\n",
    "from datetime import datetime"
   ]
  },
  {
   "cell_type": "code",
   "execution_count": 19,
   "metadata": {},
   "outputs": [],
   "source": [
    "path = \"C:\\\\Users\\\\padu\\\\Desktop\\\\Zillow\\\\\"\n",
    "os.chdir(path)"
   ]
  },
  {
   "cell_type": "code",
   "execution_count": 20,
   "metadata": {
    "scrolled": true
   },
   "outputs": [],
   "source": [
    "All = gb.glob(path + \"/*.csv\")\n",
    "# All"
   ]
  },
  {
   "cell_type": "code",
   "execution_count": 21,
   "metadata": {},
   "outputs": [
    {
     "data": {
      "text/plain": [
       "211"
      ]
     },
     "execution_count": 21,
     "metadata": {},
     "output_type": "execute_result"
    }
   ],
   "source": [
    "len(All)"
   ]
  },
  {
   "cell_type": "code",
   "execution_count": 22,
   "metadata": {},
   "outputs": [],
   "source": [
    "Zillow = (pd.read_csv(file) for file in All)\n",
    "FinalZillow   = pd.concat(Zillow, ignore_index=True)"
   ]
  },
  {
   "cell_type": "code",
   "execution_count": 23,
   "metadata": {},
   "outputs": [
    {
     "data": {
      "text/plain": [
       "(87577, 12)"
      ]
     },
     "execution_count": 23,
     "metadata": {},
     "output_type": "execute_result"
    }
   ],
   "source": [
    "FinalZillow.shape"
   ]
  },
  {
   "cell_type": "code",
   "execution_count": 24,
   "metadata": {},
   "outputs": [
    {
     "data": {
      "text/plain": [
       "71305"
      ]
     },
     "execution_count": 24,
     "metadata": {},
     "output_type": "execute_result"
    }
   ],
   "source": [
    "FinalZillow.duplicated().sum()"
   ]
  },
  {
   "cell_type": "code",
   "execution_count": 25,
   "metadata": {},
   "outputs": [
    {
     "data": {
      "text/plain": [
       "16272"
      ]
     },
     "execution_count": 25,
     "metadata": {},
     "output_type": "execute_result"
    }
   ],
   "source": [
    "int(FinalZillow.shape[0]) - FinalZillow.duplicated().sum() "
   ]
  },
  {
   "cell_type": "code",
   "execution_count": 26,
   "metadata": {},
   "outputs": [],
   "source": [
    "# FinalZillow.to_csv(\"ZillowConcat.csv\", index=False)"
   ]
  },
  {
   "cell_type": "code",
   "execution_count": 27,
   "metadata": {},
   "outputs": [],
   "source": [
    "FinalUnique = FinalZillow.drop_duplicates()\n"
   ]
  },
  {
   "cell_type": "code",
   "execution_count": 28,
   "metadata": {},
   "outputs": [
    {
     "data": {
      "text/plain": [
       "16272"
      ]
     },
     "execution_count": 28,
     "metadata": {},
     "output_type": "execute_result"
    }
   ],
   "source": [
    "int(FinalUnique.shape[0]) - FinalUnique.duplicated().sum() "
   ]
  },
  {
   "cell_type": "code",
   "execution_count": 29,
   "metadata": {},
   "outputs": [],
   "source": [
    "paths = \"C:\\\\Users\\\\padu\\\\Desktop\\\\Zillow\\\\Final\\\\\"\n",
    "os.chdir(paths)"
   ]
  },
  {
   "cell_type": "code",
   "execution_count": 30,
   "metadata": {},
   "outputs": [],
   "source": [
    "FinalUnique.to_csv(\"ZillowUnique.csv\", index=False)"
   ]
  },
  {
   "cell_type": "code",
   "execution_count": 31,
   "metadata": {},
   "outputs": [
    {
     "data": {
      "text/plain": [
       "Index(['latitude', 'longitude', 'floorsize', 'streetaddress', 'zipcode',\n",
       "       'Locality', 'url', 'price', 'bedrooms', 'bedroomsLab', 'baths',\n",
       "       'overview'],\n",
       "      dtype='object')"
      ]
     },
     "execution_count": 31,
     "metadata": {},
     "output_type": "execute_result"
    }
   ],
   "source": [
    "FinalUnique.columns"
   ]
  },
  {
   "cell_type": "code",
   "execution_count": 32,
   "metadata": {},
   "outputs": [
    {
     "data": {
      "text/plain": [
       "7226"
      ]
     },
     "execution_count": 32,
     "metadata": {},
     "output_type": "execute_result"
    }
   ],
   "source": [
    "StreetAddress = FinalUnique.drop_duplicates(subset = \"streetaddress\")\n",
    "len(StreetAddress)"
   ]
  },
  {
   "cell_type": "code",
   "execution_count": 33,
   "metadata": {},
   "outputs": [
    {
     "data": {
      "text/plain": [
       "8694"
      ]
     },
     "execution_count": 33,
     "metadata": {},
     "output_type": "execute_result"
    }
   ],
   "source": [
    "Overview = FinalUnique.drop_duplicates(subset = 'overview')\n",
    "len(Overview)"
   ]
  },
  {
   "cell_type": "code",
   "execution_count": 34,
   "metadata": {},
   "outputs": [
    {
     "data": {
      "text/html": [
       "<div>\n",
       "<style scoped>\n",
       "    .dataframe tbody tr th:only-of-type {\n",
       "        vertical-align: middle;\n",
       "    }\n",
       "\n",
       "    .dataframe tbody tr th {\n",
       "        vertical-align: top;\n",
       "    }\n",
       "\n",
       "    .dataframe thead th {\n",
       "        text-align: right;\n",
       "    }\n",
       "</style>\n",
       "<table border=\"1\" class=\"dataframe\">\n",
       "  <thead>\n",
       "    <tr style=\"text-align: right;\">\n",
       "      <th></th>\n",
       "      <th>latitude</th>\n",
       "      <th>longitude</th>\n",
       "      <th>floorsize</th>\n",
       "      <th>streetaddress</th>\n",
       "      <th>zipcode</th>\n",
       "      <th>Locality</th>\n",
       "      <th>url</th>\n",
       "      <th>price</th>\n",
       "      <th>bedrooms</th>\n",
       "      <th>bedroomsLab</th>\n",
       "      <th>baths</th>\n",
       "      <th>overview</th>\n",
       "    </tr>\n",
       "  </thead>\n",
       "  <tbody>\n",
       "    <tr>\n",
       "      <th>0</th>\n",
       "      <td>35.248197</td>\n",
       "      <td>-80.725916</td>\n",
       "      <td>1,840</td>\n",
       "      <td>7330 William Reynolds Dr, Charlotte, NC 28215</td>\n",
       "      <td>28215</td>\n",
       "      <td>Charlotte</td>\n",
       "      <td>https://www.zillow.com/homedetails/7330-Willia...</td>\n",
       "      <td>$1,350/mo</td>\n",
       "      <td>3</td>\n",
       "      <td>3 bds</td>\n",
       "      <td>2</td>\n",
       "      <td>Corner lot ranch home. Neutral paint and lamin...</td>\n",
       "    </tr>\n",
       "    <tr>\n",
       "      <th>1</th>\n",
       "      <td>35.257124</td>\n",
       "      <td>-80.833872</td>\n",
       "      <td>651</td>\n",
       "      <td>1525 Norris Ave, Charlotte, NC 28206</td>\n",
       "      <td>28206</td>\n",
       "      <td>Charlotte</td>\n",
       "      <td>https://www.zillow.com/homedetails/1525-Norris...</td>\n",
       "      <td>$1,000/mo</td>\n",
       "      <td>2</td>\n",
       "      <td>2 bds</td>\n",
       "      <td>1</td>\n",
       "      <td>Perfect Rental Home In A Hot Growing Area! Dru...</td>\n",
       "    </tr>\n",
       "    <tr>\n",
       "      <th>2</th>\n",
       "      <td>35.150751</td>\n",
       "      <td>-80.932308</td>\n",
       "      <td>1,804</td>\n",
       "      <td>7406 Red Mulberry Way, Charlotte, NC 28273</td>\n",
       "      <td>28273</td>\n",
       "      <td>Charlotte</td>\n",
       "      <td>https://www.zillow.com/homedetails/7406-Red-Mu...</td>\n",
       "      <td>$1,675/mo</td>\n",
       "      <td>3</td>\n",
       "      <td>3 bds</td>\n",
       "      <td>2</td>\n",
       "      <td>AVAILABLE IMMEDIATELY - trying to help out in ...</td>\n",
       "    </tr>\n",
       "    <tr>\n",
       "      <th>3</th>\n",
       "      <td>35.276457</td>\n",
       "      <td>-80.710084</td>\n",
       "      <td>2,044</td>\n",
       "      <td>4604 Meadowfield Rd, Charlotte, NC 28215</td>\n",
       "      <td>28215</td>\n",
       "      <td>Charlotte</td>\n",
       "      <td>https://www.zillow.com/homedetails/4604-Meadow...</td>\n",
       "      <td>$1,795/mo</td>\n",
       "      <td>5</td>\n",
       "      <td>5 bds</td>\n",
       "      <td>3</td>\n",
       "      <td>This home is priced to rent and won't be aroun...</td>\n",
       "    </tr>\n",
       "    <tr>\n",
       "      <th>7</th>\n",
       "      <td>35.257146</td>\n",
       "      <td>-80.867703</td>\n",
       "      <td>1,006</td>\n",
       "      <td>3212 Lasalle St, Charlotte, NC 28216</td>\n",
       "      <td>28216</td>\n",
       "      <td>Charlotte</td>\n",
       "      <td>https://www.zillow.com/homedetails/3212-Lasall...</td>\n",
       "      <td>$1,275/mo</td>\n",
       "      <td>3</td>\n",
       "      <td>3 bds</td>\n",
       "      <td>2</td>\n",
       "      <td>Make plenty of memories in this inviting home!...</td>\n",
       "    </tr>\n",
       "    <tr>\n",
       "      <th>...</th>\n",
       "      <td>...</td>\n",
       "      <td>...</td>\n",
       "      <td>...</td>\n",
       "      <td>...</td>\n",
       "      <td>...</td>\n",
       "      <td>...</td>\n",
       "      <td>...</td>\n",
       "      <td>...</td>\n",
       "      <td>...</td>\n",
       "      <td>...</td>\n",
       "      <td>...</td>\n",
       "      <td>...</td>\n",
       "    </tr>\n",
       "    <tr>\n",
       "      <th>87009</th>\n",
       "      <td>35.298190</td>\n",
       "      <td>-80.841644</td>\n",
       "      <td>1,356</td>\n",
       "      <td>5710 Lambrook Ct, Charlotte, NC 28269</td>\n",
       "      <td>28269</td>\n",
       "      <td>Charlotte</td>\n",
       "      <td>https://www.zillow.com/homedetails/5710-Lambro...</td>\n",
       "      <td>$1,500/mo</td>\n",
       "      <td>3</td>\n",
       "      <td>3 bds</td>\n",
       "      <td>2</td>\n",
       "      <td>Complete renovation from top to bottom. All ne...</td>\n",
       "    </tr>\n",
       "    <tr>\n",
       "      <th>87014</th>\n",
       "      <td>35.225923</td>\n",
       "      <td>-80.660705</td>\n",
       "      <td>2,810</td>\n",
       "      <td>8906 Paddle Oak Rd, Charlotte, NC 28227</td>\n",
       "      <td>28227</td>\n",
       "      <td>Charlotte</td>\n",
       "      <td>https://www.zillow.com/homedetails/8906-Paddle...</td>\n",
       "      <td>$1,880/mo</td>\n",
       "      <td>5</td>\n",
       "      <td>5 bds</td>\n",
       "      <td>3</td>\n",
       "      <td>Beautiful 2 story home in the Woodbury communi...</td>\n",
       "    </tr>\n",
       "    <tr>\n",
       "      <th>87072</th>\n",
       "      <td>35.192069</td>\n",
       "      <td>-80.857686</td>\n",
       "      <td>1,374</td>\n",
       "      <td>3039 Sunset Dr, Charlotte, NC 28209</td>\n",
       "      <td>28209</td>\n",
       "      <td>Charlotte</td>\n",
       "      <td>https://www.zillow.com/homedetails/3039-Sunset...</td>\n",
       "      <td>$2,900/mo</td>\n",
       "      <td>3</td>\n",
       "      <td>3 bds</td>\n",
       "      <td>2</td>\n",
       "      <td>Available July 1st. 1 year lease. Tours starti...</td>\n",
       "    </tr>\n",
       "    <tr>\n",
       "      <th>87137</th>\n",
       "      <td>35.106737</td>\n",
       "      <td>-80.964280</td>\n",
       "      <td>1,726</td>\n",
       "      <td>11312 Livingston Mill Rd, Charlotte, NC 28273</td>\n",
       "      <td>28273</td>\n",
       "      <td>Charlotte</td>\n",
       "      <td>https://www.zillow.com/homedetails/11312-Livin...</td>\n",
       "      <td>$1,729/mo</td>\n",
       "      <td>3</td>\n",
       "      <td>3 bds</td>\n",
       "      <td>2</td>\n",
       "      <td>This lovely home has been waiting for you. Bea...</td>\n",
       "    </tr>\n",
       "    <tr>\n",
       "      <th>87153</th>\n",
       "      <td>35.372828</td>\n",
       "      <td>-80.797272</td>\n",
       "      <td>1,420</td>\n",
       "      <td>11829 Long Forest Dr, Charlotte, NC 28269</td>\n",
       "      <td>28269</td>\n",
       "      <td>Charlotte</td>\n",
       "      <td>https://www.zillow.com/homedetails/11829-Long-...</td>\n",
       "      <td>$1,645/mo</td>\n",
       "      <td>3</td>\n",
       "      <td>3 bds</td>\n",
       "      <td>3</td>\n",
       "      <td>This home will be available soon, and we are a...</td>\n",
       "    </tr>\n",
       "  </tbody>\n",
       "</table>\n",
       "<p>8694 rows × 12 columns</p>\n",
       "</div>"
      ],
      "text/plain": [
       "        latitude  longitude floorsize  \\\n",
       "0      35.248197 -80.725916     1,840   \n",
       "1      35.257124 -80.833872       651   \n",
       "2      35.150751 -80.932308     1,804   \n",
       "3      35.276457 -80.710084     2,044   \n",
       "7      35.257146 -80.867703     1,006   \n",
       "...          ...        ...       ...   \n",
       "87009  35.298190 -80.841644     1,356   \n",
       "87014  35.225923 -80.660705     2,810   \n",
       "87072  35.192069 -80.857686     1,374   \n",
       "87137  35.106737 -80.964280     1,726   \n",
       "87153  35.372828 -80.797272     1,420   \n",
       "\n",
       "                                       streetaddress  zipcode   Locality  \\\n",
       "0      7330 William Reynolds Dr, Charlotte, NC 28215    28215  Charlotte   \n",
       "1               1525 Norris Ave, Charlotte, NC 28206    28206  Charlotte   \n",
       "2         7406 Red Mulberry Way, Charlotte, NC 28273    28273  Charlotte   \n",
       "3           4604 Meadowfield Rd, Charlotte, NC 28215    28215  Charlotte   \n",
       "7               3212 Lasalle St, Charlotte, NC 28216    28216  Charlotte   \n",
       "...                                              ...      ...        ...   \n",
       "87009          5710 Lambrook Ct, Charlotte, NC 28269    28269  Charlotte   \n",
       "87014        8906 Paddle Oak Rd, Charlotte, NC 28227    28227  Charlotte   \n",
       "87072            3039 Sunset Dr, Charlotte, NC 28209    28209  Charlotte   \n",
       "87137  11312 Livingston Mill Rd, Charlotte, NC 28273    28273  Charlotte   \n",
       "87153      11829 Long Forest Dr, Charlotte, NC 28269    28269  Charlotte   \n",
       "\n",
       "                                                     url      price bedrooms  \\\n",
       "0      https://www.zillow.com/homedetails/7330-Willia...  $1,350/mo        3   \n",
       "1      https://www.zillow.com/homedetails/1525-Norris...  $1,000/mo        2   \n",
       "2      https://www.zillow.com/homedetails/7406-Red-Mu...  $1,675/mo        3   \n",
       "3      https://www.zillow.com/homedetails/4604-Meadow...  $1,795/mo        5   \n",
       "7      https://www.zillow.com/homedetails/3212-Lasall...  $1,275/mo        3   \n",
       "...                                                  ...        ...      ...   \n",
       "87009  https://www.zillow.com/homedetails/5710-Lambro...  $1,500/mo        3   \n",
       "87014  https://www.zillow.com/homedetails/8906-Paddle...  $1,880/mo        5   \n",
       "87072  https://www.zillow.com/homedetails/3039-Sunset...  $2,900/mo        3   \n",
       "87137  https://www.zillow.com/homedetails/11312-Livin...  $1,729/mo        3   \n",
       "87153  https://www.zillow.com/homedetails/11829-Long-...  $1,645/mo        3   \n",
       "\n",
       "      bedroomsLab baths                                           overview  \n",
       "0           3 bds     2  Corner lot ranch home. Neutral paint and lamin...  \n",
       "1           2 bds     1  Perfect Rental Home In A Hot Growing Area! Dru...  \n",
       "2           3 bds     2  AVAILABLE IMMEDIATELY - trying to help out in ...  \n",
       "3           5 bds     3  This home is priced to rent and won't be aroun...  \n",
       "7           3 bds     2  Make plenty of memories in this inviting home!...  \n",
       "...           ...   ...                                                ...  \n",
       "87009       3 bds     2  Complete renovation from top to bottom. All ne...  \n",
       "87014       5 bds     3  Beautiful 2 story home in the Woodbury communi...  \n",
       "87072       3 bds     2  Available July 1st. 1 year lease. Tours starti...  \n",
       "87137       3 bds     2  This lovely home has been waiting for you. Bea...  \n",
       "87153       3 bds     3  This home will be available soon, and we are a...  \n",
       "\n",
       "[8694 rows x 12 columns]"
      ]
     },
     "execution_count": 34,
     "metadata": {},
     "output_type": "execute_result"
    }
   ],
   "source": [
    "Overview"
   ]
  },
  {
   "cell_type": "code",
   "execution_count": null,
   "metadata": {},
   "outputs": [],
   "source": []
  },
  {
   "cell_type": "code",
   "execution_count": null,
   "metadata": {},
   "outputs": [],
   "source": []
  }
 ],
 "metadata": {
  "kernelspec": {
   "display_name": "Python 3",
   "language": "python",
   "name": "python3"
  },
  "language_info": {
   "codemirror_mode": {
    "name": "ipython",
    "version": 3
   },
   "file_extension": ".py",
   "mimetype": "text/x-python",
   "name": "python",
   "nbconvert_exporter": "python",
   "pygments_lexer": "ipython3",
   "version": "3.7.9"
  }
 },
 "nbformat": 4,
 "nbformat_minor": 4
}
